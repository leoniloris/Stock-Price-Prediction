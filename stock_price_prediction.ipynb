{
 "cells": [
  {
   "cell_type": "markdown",
   "metadata": {},
   "source": [
    "# Stock Price Prediction "
   ]
  },
  {
   "cell_type": "code",
   "execution_count": 67,
   "metadata": {},
   "outputs": [
    {
     "ename": "SyntaxError",
     "evalue": "invalid syntax (<ipython-input-67-9a58aa2f05fd>, line 1)",
     "output_type": "error",
     "traceback": [
      "\u001b[1;36m  File \u001b[1;32m\"<ipython-input-67-9a58aa2f05fd>\"\u001b[1;36m, line \u001b[1;32m1\u001b[0m\n\u001b[1;33m    (solving the wrong problem!) MARCOS FETURES\u001b[0m\n\u001b[1;37m               ^\u001b[0m\n\u001b[1;31mSyntaxError\u001b[0m\u001b[1;31m:\u001b[0m invalid syntax\n"
     ]
    }
   ],
   "source": [
    "(solving the wrong problem!) MARCOS FETURES"
   ]
  },
  {
   "cell_type": "markdown",
   "metadata": {},
   "source": [
    "# I) Description of the problem"
   ]
  },
  {
   "cell_type": "markdown",
   "metadata": {
    "heading_collapsed": true
   },
   "source": [
    "### On the problem.\n",
    "\n",
    "* The problem of stock prediction concerns of being able to forecast a *Weakly Non stationary Time Series* so one can **sell** an active at a higher **Ask Price** that is was it's **Bid price** (buying at a smaller price than it was previously sold).\n",
    "\n",
    "\n",
    "### On the properties of the data.\n",
    "\n",
    "* Stocks, ETF's, hedge funds, can be modeled instantaneously as two Weakly Non stationary Time Series, one for *bid* prices and one for *ask* prices. By weakly Non stationary Time Series ($X(t)$), it is meant:\n",
    "\n",
    "<center>\n",
    "    First momentum invariance. (Trends in marked do not follow this)\n",
    "</center>\n",
    "$$E[X(t)] = E[X(t + \\epsilon)]$$ <br/>\n",
    "\n",
    "\n",
    "\n",
    "\n",
    "<center>\n",
    "    Second momentum invariance. (Varying volatility of the market do not follow this)\n",
    "</center>\n",
    "$$C(X(t)) = C(X(t + \\alpha)) = E[(X(t) - E[X(t)])(X(t + \\epsilon) - E[X(t + \\epsilon)])]$$ <br/>\n",
    "\n",
    "\n",
    "\n",
    "\n",
    "<center>\n",
    "    Bounded energy. (The very nature of inflation do not follow this)\n",
    "</center>\n",
    "$$E[|X(t)|^2] < \\infty $$ <br/>\n",
    "\n",
    "\n",
    "\n",
    "\n",
    "* So, one should interpret this data as not predictable for longer distances but, among several, one can depicts a few techniques to be able to predict those series. Namely:\n",
    "\n",
    "    - Short term predictions: It transforms a non-stationary series in a locally stationary series. Thus, predictable.\n",
    "    - Using the first order derivative ($r(t) = (x(t) - x(t - 1))$): It erases the 'memory' of a non-stationary series. This is also called **RETURNS** of a financial time series.\n",
    "\n",
    "\n",
    "### On the financial data.\n",
    "\n",
    "* **Bid's** and **Ask's** are updated at every new *order* in the *order book*, this is called *tick*. For visual chartists, analyzing this *tick* data is too cumbersome, so one of **many** ways of visualizing it, is in the form of **Open, Close, High, Low**, henceforth, nicknamed after *OCHL*. Those are defined as:\n",
    "\n",
    "![title](assets/ochl.png)\n",
    "\n",
    "\n",
    "* Among those who do trade stocks, we can find the ones so called *Scalpers* and the *Swing traders*, where, respectively, one places its buy/sell orders in the same day whereas the other waits for several days. We will be dealing with the former."
   ]
  },
  {
   "cell_type": "markdown",
   "metadata": {},
   "source": [
    "# II) Loading data"
   ]
  },
  {
   "cell_type": "code",
   "execution_count": 1,
   "metadata": {},
   "outputs": [],
   "source": [
    "import requests\n",
    "import quandl\n",
    "import os\n",
    "\n",
    "import matplotlib.pyplot as plt\n",
    "import pandas as pd\n",
    "import numpy as np\n",
    "\n",
    "from collections import namedtuple"
   ]
  },
  {
   "cell_type": "code",
   "execution_count": 2,
   "metadata": {},
   "outputs": [],
   "source": [
    "api_key = os.environ['QUANDL_API_KEY']\n",
    "metadata_filename = 'WIKI_metadata.csv'\n",
    "dataset_filename = 'WIKI_dataset.csv'\n",
    "dates_range = ['2000-12-31', '2018-12-31']"
   ]
  },
  {
   "cell_type": "markdown",
   "metadata": {},
   "source": [
    "## Downloading and extracting the dataset"
   ]
  },
  {
   "cell_type": "code",
   "execution_count": 3,
   "metadata": {},
   "outputs": [],
   "source": [
    "import zipfile\n",
    "def get_data(url, filename, extract=True):\n",
    "    r = requests.get(url, allow_redirects=True)\n",
    "    filename = filename + '.zip' if extract else filename\n",
    "    open(filename, 'wb').write(r.content)\n",
    "    if not extract: return\n",
    "    zipfile.ZipFile(filename, 'r').extractall('./')"
   ]
  },
  {
   "cell_type": "code",
   "execution_count": 4,
   "metadata": {},
   "outputs": [],
   "source": [
    "get_data('https://www.quandl.com/api/v3/databases/WIKI/metadata?api_key=%s' % api_key, \n",
    "         metadata_filename)\n",
    "\n",
    "get_data('https://www.quandl.com/api/v3/datatables/WIKI/PRICES/delta.json?api_key=%s' % api_key, \n",
    "         dataset_filename, extract=False)"
   ]
  },
  {
   "cell_type": "code",
   "execution_count": 5,
   "metadata": {},
   "outputs": [],
   "source": [
    "metadata_df = pd.read_csv(metadata_filename)\n",
    "dataset_df = pd.read_csv(dataset_filename)"
   ]
  },
  {
   "cell_type": "code",
   "execution_count": 6,
   "metadata": {},
   "outputs": [
    {
     "data": {
      "text/html": [
       "<div>\n",
       "<style scoped>\n",
       "    .dataframe tbody tr th:only-of-type {\n",
       "        vertical-align: middle;\n",
       "    }\n",
       "\n",
       "    .dataframe tbody tr th {\n",
       "        vertical-align: top;\n",
       "    }\n",
       "\n",
       "    .dataframe thead th {\n",
       "        text-align: right;\n",
       "    }\n",
       "</style>\n",
       "<table border=\"1\" class=\"dataframe\">\n",
       "  <thead>\n",
       "    <tr style=\"text-align: right;\">\n",
       "      <th></th>\n",
       "      <th>code</th>\n",
       "      <th>name</th>\n",
       "      <th>description</th>\n",
       "      <th>refreshed_at</th>\n",
       "      <th>from_date</th>\n",
       "      <th>to_date</th>\n",
       "    </tr>\n",
       "  </thead>\n",
       "  <tbody>\n",
       "    <tr>\n",
       "      <th>446</th>\n",
       "      <td>BWC</td>\n",
       "      <td>Babcock &amp; Wilcox Co. (BWC) Prices, Dividends, ...</td>\n",
       "      <td>&lt;p&gt;End of day open, high, low, close and volum...</td>\n",
       "      <td>2017-04-26 15:20:38</td>\n",
       "      <td>2010-08-02</td>\n",
       "      <td>2015-06-30</td>\n",
       "    </tr>\n",
       "    <tr>\n",
       "      <th>377</th>\n",
       "      <td>BKH</td>\n",
       "      <td>Black Hills Corp. (BKH) Prices, Dividends, Spl...</td>\n",
       "      <td>&lt;p&gt;End of day open, high, low, close and volum...</td>\n",
       "      <td>2018-03-27 21:45:55</td>\n",
       "      <td>1984-09-07</td>\n",
       "      <td>2018-03-27</td>\n",
       "    </tr>\n",
       "    <tr>\n",
       "      <th>2735</th>\n",
       "      <td>T</td>\n",
       "      <td>AT&amp;T Inc (T) Prices, Dividends, Splits and Tra...</td>\n",
       "      <td>End of day open, high, low, close and volume, ...</td>\n",
       "      <td>2018-03-27 21:46:12</td>\n",
       "      <td>1984-07-19</td>\n",
       "      <td>2018-03-27</td>\n",
       "    </tr>\n",
       "    <tr>\n",
       "      <th>1034</th>\n",
       "      <td>FARM</td>\n",
       "      <td>Farmer Brothers Company (FARM) Prices, Dividen...</td>\n",
       "      <td>&lt;p&gt;End of day open, high, low, close and volum...</td>\n",
       "      <td>2018-03-27 21:45:58</td>\n",
       "      <td>1990-03-26</td>\n",
       "      <td>2018-03-27</td>\n",
       "    </tr>\n",
       "    <tr>\n",
       "      <th>1061</th>\n",
       "      <td>FDS</td>\n",
       "      <td>FactSet Research Systems Inc. (FDS) Prices, Di...</td>\n",
       "      <td>&lt;p&gt;End of day open, high, low, close and volum...</td>\n",
       "      <td>2018-03-27 21:45:58</td>\n",
       "      <td>1996-06-28</td>\n",
       "      <td>2018-03-27</td>\n",
       "    </tr>\n",
       "    <tr>\n",
       "      <th>1672</th>\n",
       "      <td>LGIH</td>\n",
       "      <td>LGI Homes Inc. (LGIH) Prices, Dividends, Split...</td>\n",
       "      <td>&lt;p&gt;End of day open, high, low, close and volum...</td>\n",
       "      <td>2018-03-27 21:46:08</td>\n",
       "      <td>2013-11-07</td>\n",
       "      <td>2018-03-27</td>\n",
       "    </tr>\n",
       "    <tr>\n",
       "      <th>1826</th>\n",
       "      <td>MIL</td>\n",
       "      <td>MFC Industrial Ltd. (MIL) Prices, Dividends, S...</td>\n",
       "      <td>&lt;p&gt;End of day open, high, low, close and volum...</td>\n",
       "      <td>2017-04-26 13:43:24</td>\n",
       "      <td>1996-05-08</td>\n",
       "      <td>2016-02-12</td>\n",
       "    </tr>\n",
       "    <tr>\n",
       "      <th>2165</th>\n",
       "      <td>PCAR</td>\n",
       "      <td>PACCAR Inc (PCAR) Prices, Dividends, Splits an...</td>\n",
       "      <td>End of day open, high, low, close and volume, ...</td>\n",
       "      <td>2018-03-27 21:46:12</td>\n",
       "      <td>1986-07-09</td>\n",
       "      <td>2018-03-27</td>\n",
       "    </tr>\n",
       "    <tr>\n",
       "      <th>1290</th>\n",
       "      <td>GY</td>\n",
       "      <td>GenCorp Inc. (GY) Prices, Dividends, Splits an...</td>\n",
       "      <td>&lt;p&gt;End of day open, high, low, close and volum...</td>\n",
       "      <td>2015-04-24 22:16:06</td>\n",
       "      <td>1981-02-02</td>\n",
       "      <td>2015-04-24</td>\n",
       "    </tr>\n",
       "    <tr>\n",
       "      <th>1170</th>\n",
       "      <td>FXEN</td>\n",
       "      <td>FX Energy Inc. (FXEN) Prices, Dividends, Split...</td>\n",
       "      <td>&lt;p&gt;End of day open, high, low, close and volum...</td>\n",
       "      <td>2017-04-26 13:11:13</td>\n",
       "      <td>1996-06-11</td>\n",
       "      <td>2015-12-31</td>\n",
       "    </tr>\n",
       "  </tbody>\n",
       "</table>\n",
       "</div>"
      ],
      "text/plain": [
       "      code                                               name  \\\n",
       "446    BWC  Babcock & Wilcox Co. (BWC) Prices, Dividends, ...   \n",
       "377    BKH  Black Hills Corp. (BKH) Prices, Dividends, Spl...   \n",
       "2735     T  AT&T Inc (T) Prices, Dividends, Splits and Tra...   \n",
       "1034  FARM  Farmer Brothers Company (FARM) Prices, Dividen...   \n",
       "1061   FDS  FactSet Research Systems Inc. (FDS) Prices, Di...   \n",
       "1672  LGIH  LGI Homes Inc. (LGIH) Prices, Dividends, Split...   \n",
       "1826   MIL  MFC Industrial Ltd. (MIL) Prices, Dividends, S...   \n",
       "2165  PCAR  PACCAR Inc (PCAR) Prices, Dividends, Splits an...   \n",
       "1290    GY  GenCorp Inc. (GY) Prices, Dividends, Splits an...   \n",
       "1170  FXEN  FX Energy Inc. (FXEN) Prices, Dividends, Split...   \n",
       "\n",
       "                                            description         refreshed_at  \\\n",
       "446   <p>End of day open, high, low, close and volum...  2017-04-26 15:20:38   \n",
       "377   <p>End of day open, high, low, close and volum...  2018-03-27 21:45:55   \n",
       "2735  End of day open, high, low, close and volume, ...  2018-03-27 21:46:12   \n",
       "1034  <p>End of day open, high, low, close and volum...  2018-03-27 21:45:58   \n",
       "1061  <p>End of day open, high, low, close and volum...  2018-03-27 21:45:58   \n",
       "1672  <p>End of day open, high, low, close and volum...  2018-03-27 21:46:08   \n",
       "1826  <p>End of day open, high, low, close and volum...  2017-04-26 13:43:24   \n",
       "2165  End of day open, high, low, close and volume, ...  2018-03-27 21:46:12   \n",
       "1290  <p>End of day open, high, low, close and volum...  2015-04-24 22:16:06   \n",
       "1170  <p>End of day open, high, low, close and volum...  2017-04-26 13:11:13   \n",
       "\n",
       "       from_date     to_date  \n",
       "446   2010-08-02  2015-06-30  \n",
       "377   1984-09-07  2018-03-27  \n",
       "2735  1984-07-19  2018-03-27  \n",
       "1034  1990-03-26  2018-03-27  \n",
       "1061  1996-06-28  2018-03-27  \n",
       "1672  2013-11-07  2018-03-27  \n",
       "1826  1996-05-08  2016-02-12  \n",
       "2165  1986-07-09  2018-03-27  \n",
       "1290  1981-02-02  2015-04-24  \n",
       "1170  1996-06-11  2015-12-31  "
      ]
     },
     "execution_count": 6,
     "metadata": {},
     "output_type": "execute_result"
    }
   ],
   "source": [
    "metadata_df.sample(10)"
   ]
  },
  {
   "cell_type": "code",
   "execution_count": 7,
   "metadata": {},
   "outputs": [
    {
     "data": {
      "text/html": [
       "<div>\n",
       "<style scoped>\n",
       "    .dataframe tbody tr th:only-of-type {\n",
       "        vertical-align: middle;\n",
       "    }\n",
       "\n",
       "    .dataframe tbody tr th {\n",
       "        vertical-align: top;\n",
       "    }\n",
       "\n",
       "    .dataframe thead th {\n",
       "        text-align: right;\n",
       "    }\n",
       "</style>\n",
       "<table border=\"1\" class=\"dataframe\">\n",
       "  <thead>\n",
       "    <tr style=\"text-align: right;\">\n",
       "      <th></th>\n",
       "      <th>{\"data\":{\"files\":[]</th>\n",
       "      <th>latest_full_data:null}}</th>\n",
       "    </tr>\n",
       "  </thead>\n",
       "  <tbody>\n",
       "  </tbody>\n",
       "</table>\n",
       "</div>"
      ],
      "text/plain": [
       "Empty DataFrame\n",
       "Columns: [{\"data\":{\"files\":[], latest_full_data:null}}]\n",
       "Index: []"
      ]
     },
     "execution_count": 7,
     "metadata": {},
     "output_type": "execute_result"
    }
   ],
   "source": [
    "dataset_df"
   ]
  },
  {
   "cell_type": "markdown",
   "metadata": {},
   "source": [
    "* Since the api for `get`'ing seems to be not working, we can use the **quandl** module to download the dataset.\n",
    "\n",
    "\n",
    "\n",
    "* The WIKI dataset has a huge variety of stocks and assets, so, we'll be dealing with either **one** for regression or **four**  when building a portfolio.\n"
   ]
  },
  {
   "cell_type": "code",
   "execution_count": 8,
   "metadata": {
    "scrolled": true
   },
   "outputs": [
    {
     "data": {
      "text/html": [
       "<div>\n",
       "<style scoped>\n",
       "    .dataframe tbody tr th:only-of-type {\n",
       "        vertical-align: middle;\n",
       "    }\n",
       "\n",
       "    .dataframe tbody tr th {\n",
       "        vertical-align: top;\n",
       "    }\n",
       "\n",
       "    .dataframe thead th {\n",
       "        text-align: right;\n",
       "    }\n",
       "</style>\n",
       "<table border=\"1\" class=\"dataframe\">\n",
       "  <thead>\n",
       "    <tr style=\"text-align: right;\">\n",
       "      <th></th>\n",
       "      <th>ticker</th>\n",
       "      <th>date</th>\n",
       "      <th>open</th>\n",
       "      <th>high</th>\n",
       "      <th>low</th>\n",
       "      <th>close</th>\n",
       "      <th>volume</th>\n",
       "      <th>ex-dividend</th>\n",
       "      <th>split_ratio</th>\n",
       "      <th>adj_open</th>\n",
       "      <th>adj_high</th>\n",
       "      <th>adj_low</th>\n",
       "      <th>adj_close</th>\n",
       "      <th>adj_volume</th>\n",
       "    </tr>\n",
       "  </thead>\n",
       "  <tbody>\n",
       "    <tr>\n",
       "      <th>0</th>\n",
       "      <td>YHOO</td>\n",
       "      <td>2017-06-16</td>\n",
       "      <td>52.79</td>\n",
       "      <td>53.30</td>\n",
       "      <td>51.900</td>\n",
       "      <td>52.5892</td>\n",
       "      <td>251032146.0</td>\n",
       "      <td>0.0</td>\n",
       "      <td>1.0</td>\n",
       "      <td>52.79</td>\n",
       "      <td>53.30</td>\n",
       "      <td>51.900</td>\n",
       "      <td>52.5892</td>\n",
       "      <td>251032146.0</td>\n",
       "    </tr>\n",
       "    <tr>\n",
       "      <th>1</th>\n",
       "      <td>YHOO</td>\n",
       "      <td>2017-06-15</td>\n",
       "      <td>52.17</td>\n",
       "      <td>52.76</td>\n",
       "      <td>51.645</td>\n",
       "      <td>52.5800</td>\n",
       "      <td>65808136.0</td>\n",
       "      <td>0.0</td>\n",
       "      <td>1.0</td>\n",
       "      <td>52.17</td>\n",
       "      <td>52.76</td>\n",
       "      <td>51.645</td>\n",
       "      <td>52.5800</td>\n",
       "      <td>65808136.0</td>\n",
       "    </tr>\n",
       "    <tr>\n",
       "      <th>2</th>\n",
       "      <td>YHOO</td>\n",
       "      <td>2017-06-14</td>\n",
       "      <td>52.42</td>\n",
       "      <td>54.26</td>\n",
       "      <td>52.160</td>\n",
       "      <td>52.6300</td>\n",
       "      <td>65466397.0</td>\n",
       "      <td>0.0</td>\n",
       "      <td>1.0</td>\n",
       "      <td>52.42</td>\n",
       "      <td>54.26</td>\n",
       "      <td>52.160</td>\n",
       "      <td>52.6300</td>\n",
       "      <td>65466397.0</td>\n",
       "    </tr>\n",
       "    <tr>\n",
       "      <th>3</th>\n",
       "      <td>YHOO</td>\n",
       "      <td>2017-06-13</td>\n",
       "      <td>53.65</td>\n",
       "      <td>54.08</td>\n",
       "      <td>52.000</td>\n",
       "      <td>52.0050</td>\n",
       "      <td>152590970.0</td>\n",
       "      <td>0.0</td>\n",
       "      <td>1.0</td>\n",
       "      <td>53.65</td>\n",
       "      <td>54.08</td>\n",
       "      <td>52.000</td>\n",
       "      <td>52.0050</td>\n",
       "      <td>152590970.0</td>\n",
       "    </tr>\n",
       "    <tr>\n",
       "      <th>4</th>\n",
       "      <td>YHOO</td>\n",
       "      <td>2017-06-12</td>\n",
       "      <td>53.79</td>\n",
       "      <td>54.55</td>\n",
       "      <td>52.600</td>\n",
       "      <td>53.1200</td>\n",
       "      <td>57480339.0</td>\n",
       "      <td>0.0</td>\n",
       "      <td>1.0</td>\n",
       "      <td>53.79</td>\n",
       "      <td>54.55</td>\n",
       "      <td>52.600</td>\n",
       "      <td>53.1200</td>\n",
       "      <td>57480339.0</td>\n",
       "    </tr>\n",
       "  </tbody>\n",
       "</table>\n",
       "</div>"
      ],
      "text/plain": [
       "  ticker       date   open   high     low    close       volume  ex-dividend  \\\n",
       "0   YHOO 2017-06-16  52.79  53.30  51.900  52.5892  251032146.0          0.0   \n",
       "1   YHOO 2017-06-15  52.17  52.76  51.645  52.5800   65808136.0          0.0   \n",
       "2   YHOO 2017-06-14  52.42  54.26  52.160  52.6300   65466397.0          0.0   \n",
       "3   YHOO 2017-06-13  53.65  54.08  52.000  52.0050  152590970.0          0.0   \n",
       "4   YHOO 2017-06-12  53.79  54.55  52.600  53.1200   57480339.0          0.0   \n",
       "\n",
       "   split_ratio  adj_open  adj_high  adj_low  adj_close   adj_volume  \n",
       "0          1.0     52.79     53.30   51.900    52.5892  251032146.0  \n",
       "1          1.0     52.17     52.76   51.645    52.5800   65808136.0  \n",
       "2          1.0     52.42     54.26   52.160    52.6300   65466397.0  \n",
       "3          1.0     53.65     54.08   52.000    52.0050  152590970.0  \n",
       "4          1.0     53.79     54.55   52.600    53.1200   57480339.0  "
      ]
     },
     "execution_count": 8,
     "metadata": {},
     "output_type": "execute_result"
    }
   ],
   "source": [
    "quandl.ApiConfig.api_key = api_key\n",
    "\n",
    "dataset_df = quandl.get_table('WIKI/PRICES', ticker = ['CENX', 'QCOM', 'YHOO', 'MCD'], \n",
    "                        date = {'gte': dates_range[0], 'lte': dates_range[1]},\n",
    "                        paginate=True).reset_index(drop=True)\n",
    "dataset_df.head()"
   ]
  },
  {
   "cell_type": "markdown",
   "metadata": {},
   "source": [
    "## Peaking on the data"
   ]
  },
  {
   "cell_type": "code",
   "execution_count": 9,
   "metadata": {},
   "outputs": [],
   "source": [
    "from pandas.plotting import register_matplotlib_converters\n",
    "from mpl_finance import candlestick_ohlc\n",
    "import matplotlib.dates as mdates\n",
    "\n",
    "data_to_plot = dataset_df[dataset_df.ticker == 'MCD'][['open', 'high', 'low', 'close', 'date']].copy()\n",
    "data_to_plot['date'] = data_to_plot.date.map(mdates.date2num).copy()"
   ]
  },
  {
   "cell_type": "code",
   "execution_count": 319,
   "metadata": {},
   "outputs": [],
   "source": [
    "%matplotlib inline"
   ]
  },
  {
   "cell_type": "code",
   "execution_count": 10,
   "metadata": {
    "scrolled": false
   },
   "outputs": [
    {
     "name": "stderr",
     "output_type": "stream",
     "text": [
      "c:\\python36\\lib\\site-packages\\pandas\\plotting\\_converter.py:129: FutureWarning: Using an implicitly registered datetime converter for a matplotlib plotting method. The converter was registered by pandas on import. Future versions of pandas will require you to explicitly register matplotlib converters.\n",
      "\n",
      "To register the converters:\n",
      "\t>>> from pandas.plotting import register_matplotlib_converters\n",
      "\t>>> register_matplotlib_converters()\n",
      "  warnings.warn(msg, FutureWarning)\n"
     ]
    },
    {
     "data": {
      "image/png": "[encoded data removed]",
      "text/plain": [
       "<Figure size 1152x432 with 1 Axes>"
      ]
     },
     "metadata": {
      "needs_background": "light"
     },
     "output_type": "display_data"
    }
   ],
   "source": [
    "plt.figure(figsize=(16, 6))\n",
    "ax = plt.subplot()\n",
    "candlestick_ohlc(ax, data_to_plot[['date', 'open', 'high', 'low', 'close']].values, width=.5, colorup='g', colordown='r')\n",
    "ax.xaxis_date()\n",
    "ax.grid()\n",
    "plt.show()\n",
    "\n",
    "del data_to_plot"
   ]
  },
  {
   "cell_type": "markdown",
   "metadata": {},
   "source": [
    "## Train, Validation and test split"
   ]
  },
  {
   "cell_type": "markdown",
   "metadata": {},
   "source": [
    "* A **true** train/val/test split is one with no **leakage** to/from train/validation/test. \n",
    "\n",
    "\n",
    "* So ideally, the test should be another symbol (*e.g.*: train with **Tesla**, validate in another period of time using another asset). \n",
    "\n",
    "\n",
    "* But this would only prove the robustness and generalization of our model, while possibly, not maximizing profits in a single asset. Besides, multiple asset analysis is better done using a **Modern Portfolio Theory** (MPT, as proposed by *Markowitz*). \n",
    "\n",
    "\n",
    "* Thus, the split will be done in order to only avoid **lookahead bias** (train with day 1 and day 3, and test with day 2).\n",
    "\n",
    "\n",
    "* Blocked Time Series Splits scheme of cross validation and training of our model will be used. We will also use a training in the whole data giving equal importance to all the data.\n",
    "\n",
    "\n",
    "![title](assets/cross_validation2.png)\n",
    "\n",
    "\n",
    "* For testing the data as soon as a architecture or algorithm is defined, we can use the Time Series Splits.:\n",
    "![title](assets/cross_validation1.png)"
   ]
  },
  {
   "cell_type": "code",
   "execution_count": 11,
   "metadata": {},
   "outputs": [],
   "source": [
    "TRAIN_VAL_PERCENTAGE = 0.85\n",
    "TEST_PERCENTAGE = 1 - TRAIN_VAL_PERCENTAGE\n",
    "\n",
    "full_dates_range = pd.date_range(start=dates_range[0], end=dates_range[1]).sort_values()\n",
    "\n",
    "train_val_date_range = full_dates_range[:int(len(full_dates_range) * TRAIN_VAL_PERCENTAGE)].sort_values()\n",
    "test_date_range = pd.DatetimeIndex(set(full_dates_range) - set(train_val_date_range)).sort_values()"
   ]
  },
  {
   "cell_type": "code",
   "execution_count": 22,
   "metadata": {},
   "outputs": [],
   "source": [
    "dataset_df.loc[dataset_df.date.isin(train_val_date_range), 'set'] = 'TRAIN_VAL'\n",
    "dataset_df.loc[dataset_df.date.isin(test_date_range), 'set'] = 'TEST'"
   ]
  },
  {
   "cell_type": "code",
   "execution_count": 13,
   "metadata": {},
   "outputs": [],
   "source": [
    "class BlockingTimeSeriesSplit:\n",
    "    def __init__(self, n_splits, train_val_percentage=0.8):\n",
    "        self._train_val_percentage = train_val_percentage\n",
    "        self._n_splits = n_splits\n",
    "    \n",
    "    @property\n",
    "    def n_splits(self):\n",
    "        return self._n_splits\n",
    "    \n",
    "    def split(self, X):\n",
    "        n_samples = len(X)\n",
    "        k_fold_size = n_samples // self._n_splits\n",
    "        indices = np.arange(n_samples)\n",
    "\n",
    "        for i in range(self._n_splits):\n",
    "            begin = i * k_fold_size\n",
    "            end = begin + k_fold_size\n",
    "            mid = int(self._train_val_percentage * (end - begin)) + begin\n",
    "            yield indices[begin:mid], indices[mid:end]"
   ]
  },
  {
   "cell_type": "code",
   "execution_count": 14,
   "metadata": {},
   "outputs": [],
   "source": [
    "from sklearn.model_selection import TimeSeriesSplit\n",
    "\n",
    "train_splits = BlockingTimeSeriesSplit(n_splits=6, train_val_percentage=TRAIN_VAL_PERCENTAGE)\n",
    "testing_splits = TimeSeriesSplit(n_splits=4)"
   ]
  },
  {
   "cell_type": "markdown",
   "metadata": {},
   "source": [
    "# III) Feature engineering"
   ]
  },
  {
   "cell_type": "markdown",
   "metadata": {},
   "source": [
    "* As discussed in the first section, it is useful to transform the OCHL features to something manageable mathematically, such as, a (locally) stationary time series.\n"
   ]
  },
  {
   "cell_type": "code",
   "execution_count": 15,
   "metadata": {},
   "outputs": [],
   "source": [
    "primary_features_columns = ['open', 'high', 'low', 'close', 'volume']"
   ]
  },
  {
   "cell_type": "code",
   "execution_count": 16,
   "metadata": {},
   "outputs": [],
   "source": [
    "features_df = dataset_df[primary_features_columns + ['ticker', 'set', 'date']].copy()"
   ]
  },
  {
   "cell_type": "markdown",
   "metadata": {},
   "source": [
    "## Analytical features"
   ]
  },
  {
   "cell_type": "markdown",
   "metadata": {},
   "source": [
    "### Daily returns."
   ]
  },
  {
   "cell_type": "markdown",
   "metadata": {},
   "source": [
    "* One can use the relative returns of one single day as feature, since it is a first order derivative, thus, conveying stationarity to out time series.\n",
    "\n",
    "$$\\frac{X(t_{close})}{X(t_{open})} - 1$$"
   ]
  },
  {
   "cell_type": "code",
   "execution_count": 17,
   "metadata": {},
   "outputs": [],
   "source": [
    "features_df['daily_returns'] = (features_df.close / features_df.open) - 1"
   ]
  },
  {
   "cell_type": "markdown",
   "metadata": {},
   "source": [
    "### Log returns.\n",
    "\n",
    "* Among the advantages explored in the **section I)** of using returns instead of the raw data, we can further improve the feature of time series so it displays desirable statistical properties. One usual transform is known as **Log-returns**, defined as follows:\n",
    "\n",
    "\n",
    "$$log(\\frac{X(t)}{X(t-1)})$$\n",
    "\n",
    "\n",
    "* The desirable properties of using log-returns can be summed in as being prone to follow a normal distribution and being able to \"accumulate\" returns over time with simple additions instead of multiplications)"
   ]
  },
  {
   "cell_type": "code",
   "execution_count": 18,
   "metadata": {},
   "outputs": [],
   "source": [
    "def log_returns(dataframe):\n",
    "    sorted_dataframe = dataframe.sort_values(by='date')\n",
    "    sorted_dataframe['log_returns'] = np.log(sorted_dataframe.close / sorted_dataframe.close.shift(1))\n",
    "    return sorted_dataframe\n",
    "    \n",
    "features_df = features_df.groupby('ticker')\\\n",
    "    .apply(log_returns).droplevel(0)"
   ]
  },
  {
   "cell_type": "markdown",
   "metadata": {},
   "source": [
    "## Market Features (Techinical indicators)"
   ]
  },
  {
   "cell_type": "markdown",
   "metadata": {},
   "source": [
    "* For traders who are used to manually trade, It's often used a common analysis called **Technical Analysis**, in which allegedly, it is possible to infer market movements such as *momentum*, *overbought*, *oversold*, *breakout break* and *support breakout* through **technical indicators** such as (*e.g.* MACD, RSI, EMA, Bollinger Bands, Stochastic oscillators).\n",
    "\n",
    "\n",
    "\n",
    "* There are **no**$^{I}$  proves so far that technical indicators have any real predictive power over the market besides the mere fact that human traders, hedge funds and firms tend to use them, so, by the efficient market hypothesis, the market will react in accordance with those buyers and sellers.\n",
    "\n",
    "\n",
    "* Thus, we are going to use one of those indicators because it can at least predict if traders are using it too much or otherwise.\n",
    "\n",
    "\n",
    "\n",
    "\n",
    "<sup>$^{I}$: *Burton G. Malkiel*, A randon walk down wall street.<sup>"
   ]
  },
  {
   "cell_type": "markdown",
   "metadata": {},
   "source": [
    "### Price-Volume Trend"
   ]
  },
  {
   "cell_type": "markdown",
   "metadata": {},
   "source": [
    "* Sharp changes in the price that follows a sharp change in volume usually represents a **resistance** or **support**, meaning that traders will consider the market overbought (or oversold) and start to sell (or buy).\n",
    "\n",
    "\n",
    "* On Balance Volume (OBV) Is an indicator that simply adds or subtracts the volume from a accumulator depending on the return of the current day."
   ]
  },
  {
   "cell_type": "code",
   "execution_count": 19,
   "metadata": {
    "scrolled": true
   },
   "outputs": [],
   "source": [
    "def on_balance_volume(dataframe):\n",
    "    sorted_dataframe = dataframe.sort_values(by='date')\n",
    "    previous_row = None\n",
    "    def _compute_obv_for_row(row):\n",
    "        nonlocal previous_row\n",
    "        if previous_row is not None:\n",
    "            row['obv'] = previous_row['obv'] + row['volume'] if row['close'] > previous_row['close'] else\\\n",
    "                         previous_row['obv'] - row['volume'] if row['close'] < previous_row['close'] else\\\n",
    "                         previous_row['obv']\n",
    "        else:\n",
    "            row['obv'] = np.nan\n",
    "            previous_row = row.copy()\n",
    "            previous_row['obv'] = .0\n",
    "        return row\n",
    "\n",
    "    return sorted_dataframe.apply(_compute_obv_for_row, axis=1)\n",
    "\n",
    "features_df = features_df.groupby('ticker')\\\n",
    "    .apply(on_balance_volume).reset_index(drop=True)"
   ]
  },
  {
   "cell_type": "markdown",
   "metadata": {},
   "source": [
    "### Normalization"
   ]
  },
  {
   "cell_type": "markdown",
   "metadata": {},
   "source": [
    "* In order give no priors to our models, the available features will be normalized by their respective standard deviation in the train so they have the same *a-priori* importance, since their power will always be 1."
   ]
  },
  {
   "cell_type": "code",
   "execution_count": 20,
   "metadata": {},
   "outputs": [],
   "source": [
    "def normalize(dataframe):    \n",
    "    feature_columns = primary_features_columns + ['daily_returns', 'log_returns', 'obv']\n",
    "    _features_df = dataframe[feature_columns]\n",
    "    _features_df = _features_df.div(_features_df[dataframe.set == 'TRAIN_VAL'].std())\n",
    "    \n",
    "    dataframe[feature_columns] = _features_df\n",
    "    return dataframe\n",
    "    \n",
    "features_df = features_df.groupby('ticker')\\\n",
    "    .apply(normalize).reset_index(drop=True)"
   ]
  },
  {
   "cell_type": "code",
   "execution_count": 21,
   "metadata": {},
   "outputs": [
    {
     "data": {
      "image/png": "[encoded data removed]",
      "text/plain": [
       "<Figure size 1152x576 with 3 Axes>"
      ]
     },
     "metadata": {
      "needs_background": "light"
     },
     "output_type": "display_data"
    }
   ],
   "source": [
    "features_df[features_df.ticker == 'CENX'][['daily_returns', 'log_returns', 'obv']]\\\n",
    "    .plot(subplots=True, figsize=(16, 8), grid=True, title='CENX')\n",
    "plt.show()"
   ]
  },
  {
   "cell_type": "markdown",
   "metadata": {},
   "source": [
    "# IV) Training\n"
   ]
  },
  {
   "cell_type": "markdown",
   "metadata": {},
   "source": [
    "## Regression"
   ]
  },
  {
   "cell_type": "markdown",
   "metadata": {},
   "source": [
    "* Windows of five days of features with 3 days of overlap will be used for the regression task."
   ]
  },
  {
   "cell_type": "code",
   "execution_count": 361,
   "metadata": {},
   "outputs": [],
   "source": [
    "ASSET_FOR_REGRESSION = 'MCD'"
   ]
  },
  {
   "cell_type": "markdown",
   "metadata": {},
   "source": [
    "## Create samples for train"
   ]
  },
  {
   "cell_type": "code",
   "execution_count": 416,
   "metadata": {},
   "outputs": [],
   "source": [
    "Samples = namedtuple('Samples', ['windowed_features', 'scalar_features', 'target'])"
   ]
  },
  {
   "cell_type": "code",
   "execution_count": 417,
   "metadata": {},
   "outputs": [],
   "source": [
    "train_val_set = features_df[(features_df.ticker == ASSET_FOR_REGRESSION) &\\\n",
    "                            (features_df.set == 'TRAIN_VAL')]\n",
    "\n",
    "train_val_set = train_val_set[primary_features_columns + ['daily_returns', 'log_returns', 'obv', 'date']]\\\n",
    "                .sort_values('date')\\\n",
    "                .reset_index(drop=True)"
   ]
  },
  {
   "cell_type": "code",
   "execution_count": 429,
   "metadata": {
    "scrolled": true
   },
   "outputs": [],
   "source": [
    "def get_samples_and_targets(\n",
    "        dataframe, *, \n",
    "        target_column, windowed_features_columns=[], \n",
    "        scalar_features_columns=[], window_size=5, overlap=3\n",
    "):\n",
    "    return [\n",
    "        Samples(\n",
    "            windowed_features=dataframe.iloc[idx - window_size:idx][windowed_features_columns].values.copy(),\n",
    "            scalar_features=dataframe.iloc[idx - 1][scalar_features_columns].values.copy(),\n",
    "            target=dataframe.iloc[idx][target_column].copy(),\n",
    "        )\n",
    "        for idx in range(window_size, len(dataframe), window_size - overlap)\n",
    "    ]\n"
   ]
  },
  {
   "cell_type": "code",
   "execution_count": 430,
   "metadata": {},
   "outputs": [],
   "source": [
    "train_samples = get_samples_and_targets(\n",
    "    train_val_set, \n",
    "    target_column='close',\n",
    "    windowed_features_columns=['open', 'high', 'low', 'close'], \n",
    "    scalar_features_columns=['daily_returns', 'log_returns', 'obv'],\n",
    "    window_size=5, overlap=3)"
   ]
  },
  {
   "cell_type": "code",
   "execution_count": null,
   "metadata": {},
   "outputs": [],
   "source": []
  }
 ],
 "metadata": {
  "kernelspec": {
   "display_name": "Python 3",
   "language": "python",
   "name": "python3"
  },
  "language_info": {
   "codemirror_mode": {
    "name": "ipython",
    "version": 3
   },
   "file_extension": ".py",
   "mimetype": "text/x-python",
   "name": "python",
   "nbconvert_exporter": "python",
   "pygments_lexer": "ipython3",
   "version": "3.6.8"
  }
 },
 "nbformat": 4,
 "nbformat_minor": 2
}
