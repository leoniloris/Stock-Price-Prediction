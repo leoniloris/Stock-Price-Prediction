{
 "cells": [
  {
   "cell_type": "markdown",
   "metadata": {},
   "source": [
    "# Stock Price Prediction "
   ]
  },
  {
   "cell_type": "code",
   "execution_count": 67,
   "metadata": {},
   "outputs": [
    {
     "ename": "SyntaxError",
     "evalue": "invalid syntax (<ipython-input-67-9a58aa2f05fd>, line 1)",
     "output_type": "error",
     "traceback": [
      "\u001b[1;36m  File \u001b[1;32m\"<ipython-input-67-9a58aa2f05fd>\"\u001b[1;36m, line \u001b[1;32m1\u001b[0m\n\u001b[1;33m    (solving the wrong problem!) MARCOS FETURES\u001b[0m\n\u001b[1;37m               ^\u001b[0m\n\u001b[1;31mSyntaxError\u001b[0m\u001b[1;31m:\u001b[0m invalid syntax\n"
     ]
    }
   ],
   "source": [
    "(solving the wrong problem!) MARCOS FETURES"
   ]
  },
  {
   "cell_type": "markdown",
   "metadata": {},
   "source": [
    "# I) Description of the problem"
   ]
  },
  {
   "cell_type": "markdown",
   "metadata": {
    "heading_collapsed": true
   },
   "source": [
    "### On the problem.\n",
    "\n",
    "* The problem of stock prediction concerns of being able to forecast a *Weakly Non stationary Time Series* so one can **sell** an active at a higher **Ask Price** that is was it's **Bid price** (buying at a smaller price than it was previously sold).\n",
    "\n",
    "\n",
    "### On the properties of the data.\n",
    "\n",
    "* Stocks, ETF's, hedge funds, can be modeled instantaneously as two Weakly Non stationary Time Series, one for *bid* prices and one for *ask* prices. By weakly Non stationary Time Series ($X(t)$), it is meant:\n",
    "\n",
    "<center>\n",
    "    First momentum invariance. (Trends in marked do not follow this)\n",
    "</center>\n",
    "$$E[X(t)] = E[X(t + \\epsilon)]$$ <br/>\n",
    "\n",
    "\n",
    "\n",
    "\n",
    "<center>\n",
    "    Second momentum invariance. (Varying volatility of the market do not follow this)\n",
    "</center>\n",
    "$$C(X(t)) = C(X(t + \\alpha)) = E[(X(t) - E[X(t)])(X(t + \\epsilon) - E[X(t + \\epsilon)])]$$ <br/>\n",
    "\n",
    "\n",
    "\n",
    "\n",
    "<center>\n",
    "    Bounded energy. (The very nature of inflation do not follow this)\n",
    "</center>\n",
    "$$E[|X(t)|^2] < \\infty $$ <br/>\n",
    "\n",
    "\n",
    "\n",
    "\n",
    "* So, one should interpret this data as not predictable for longer distances but, among several, one can depicts a few techniques to be able to predict those series. Namely:\n",
    "\n",
    "    - Short term predictions: It transforms a non-stationary series in a locally stationary series. Thus, predictable.\n",
    "    - Using the first order derivative ($r(t) = (x(t) - x(t - 1))$): It erases the 'memory' of a non-stationary series. This is also called **RETURNS** of a financial time series.\n",
    "\n",
    "\n",
    "### On the financial data.\n",
    "\n",
    "* **Bid's** and **Ask's** are updated at every new *order* in the *order book*, this is called *tick*. For visual chartists, analyzing this *tick* data is too cumbersome, so one of **many** ways of visualizing it, is in the form of **Open, Close, High, Low**, henceforth, nicknamed after *OCHL*. Those are defined as:\n",
    "\n",
    "![title](assets/ochl.png)\n",
    "\n",
    "\n",
    "* Among those who do trade stocks, we can find the ones so called *Scalpers* and the *Swing traders*, where, respectively, one places its buy/sell orders in the same day whereas the other waits for several days. We will be dealing with the former."
   ]
  },
  {
   "cell_type": "markdown",
   "metadata": {},
   "source": [
    "# II) Loading data"
   ]
  },
  {
   "cell_type": "code",
   "execution_count": 1,
   "metadata": {},
   "outputs": [],
   "source": [
    "import requests\n",
    "import quandl\n",
    "import os\n",
    "\n",
    "import matplotlib.pyplot as plt\n",
    "import pandas as pd\n",
    "import numpy as np\n",
    "\n",
    "from utils import *\n",
    "\n",
    "%load_ext autoreload\n",
    "%autoreload 2"
   ]
  },
  {
   "cell_type": "code",
   "execution_count": 2,
   "metadata": {},
   "outputs": [],
   "source": [
    "api_key = os.environ['QUANDL_API_KEY']\n",
    "metadata_filename = 'WIKI_metadata.csv'\n",
    "dataset_filename = 'WIKI_dataset.csv'\n",
    "dates_range = ['2000-12-31', '2018-12-31']"
   ]
  },
  {
   "cell_type": "markdown",
   "metadata": {},
   "source": [
    "## Downloading and extracting the dataset"
   ]
  },
  {
   "cell_type": "code",
   "execution_count": 3,
   "metadata": {},
   "outputs": [],
   "source": [
    "import zipfile\n",
    "def get_data(url, filename, extract=True):\n",
    "    r = requests.get(url, allow_redirects=True)\n",
    "    filename = filename + '.zip' if extract else filename\n",
    "    open(filename, 'wb').write(r.content)\n",
    "    if not extract: return\n",
    "    zipfile.ZipFile(filename, 'r').extractall('./')"
   ]
  },
  {
   "cell_type": "code",
   "execution_count": 4,
   "metadata": {},
   "outputs": [],
   "source": [
    "get_data('https://www.quandl.com/api/v3/databases/WIKI/metadata?api_key=%s' % api_key, \n",
    "         metadata_filename)\n",
    "\n",
    "get_data('https://www.quandl.com/api/v3/datatables/WIKI/PRICES/delta.json?api_key=%s' % api_key, \n",
    "         dataset_filename, extract=False)"
   ]
  },
  {
   "cell_type": "code",
   "execution_count": 5,
   "metadata": {},
   "outputs": [],
   "source": [
    "metadata_df = pd.read_csv(metadata_filename)\n",
    "dataset_df = pd.read_csv(dataset_filename)"
   ]
  },
  {
   "cell_type": "code",
   "execution_count": 6,
   "metadata": {},
   "outputs": [
    {
     "data": {
      "text/html": [
       "<div>\n",
       "<style scoped>\n",
       "    .dataframe tbody tr th:only-of-type {\n",
       "        vertical-align: middle;\n",
       "    }\n",
       "\n",
       "    .dataframe tbody tr th {\n",
       "        vertical-align: top;\n",
       "    }\n",
       "\n",
       "    .dataframe thead th {\n",
       "        text-align: right;\n",
       "    }\n",
       "</style>\n",
       "<table border=\"1\" class=\"dataframe\">\n",
       "  <thead>\n",
       "    <tr style=\"text-align: right;\">\n",
       "      <th></th>\n",
       "      <th>code</th>\n",
       "      <th>name</th>\n",
       "      <th>description</th>\n",
       "      <th>refreshed_at</th>\n",
       "      <th>from_date</th>\n",
       "      <th>to_date</th>\n",
       "    </tr>\n",
       "  </thead>\n",
       "  <tbody>\n",
       "    <tr>\n",
       "      <th>1298</th>\n",
       "      <td>HALO</td>\n",
       "      <td>Halozyme Therapeutics Inc. (HALO) Prices, Divi...</td>\n",
       "      <td>&lt;p&gt;End of day open, high, low, close and volum...</td>\n",
       "      <td>2018-03-27 21:45:59</td>\n",
       "      <td>2004-03-16</td>\n",
       "      <td>2018-03-27</td>\n",
       "    </tr>\n",
       "    <tr>\n",
       "      <th>2968</th>\n",
       "      <td>USTR</td>\n",
       "      <td>United Stationers Inc. (USTR) Prices, Dividend...</td>\n",
       "      <td>&lt;p&gt;End of day open, high, low, close and volum...</td>\n",
       "      <td>2017-04-26 14:40:08</td>\n",
       "      <td>1990-03-26</td>\n",
       "      <td>2015-05-29</td>\n",
       "    </tr>\n",
       "    <tr>\n",
       "      <th>1065</th>\n",
       "      <td>FEIC</td>\n",
       "      <td>FEI Company (FEIC) Prices, Dividends, Splits a...</td>\n",
       "      <td>&lt;p&gt;End of day open, high, low, close and volum...</td>\n",
       "      <td>2017-04-26 13:01:00</td>\n",
       "      <td>1995-06-01</td>\n",
       "      <td>2016-09-19</td>\n",
       "    </tr>\n",
       "    <tr>\n",
       "      <th>2539</th>\n",
       "      <td>SENEA</td>\n",
       "      <td>Seneca Foods Corp. (SENEA) Prices, Dividends, ...</td>\n",
       "      <td>&lt;p&gt;End of day open, high, low, close and volum...</td>\n",
       "      <td>2018-03-27 21:46:04</td>\n",
       "      <td>1998-06-03</td>\n",
       "      <td>2018-03-27</td>\n",
       "    </tr>\n",
       "    <tr>\n",
       "      <th>2868</th>\n",
       "      <td>TSS</td>\n",
       "      <td>Total System Services Inc. (TSS) Prices, Divid...</td>\n",
       "      <td>End of day open, high, low, close and volume, ...</td>\n",
       "      <td>2018-03-27 21:46:12</td>\n",
       "      <td>1989-06-30</td>\n",
       "      <td>2018-03-27</td>\n",
       "    </tr>\n",
       "    <tr>\n",
       "      <th>631</th>\n",
       "      <td>CNSI</td>\n",
       "      <td>Comverse Inc. (CNSI) Prices, Dividends, Splits...</td>\n",
       "      <td>&lt;p&gt;End of day open, high, low, close and volum...</td>\n",
       "      <td>2017-04-26 15:31:11</td>\n",
       "      <td>2012-10-24</td>\n",
       "      <td>2015-09-08</td>\n",
       "    </tr>\n",
       "    <tr>\n",
       "      <th>2163</th>\n",
       "      <td>PBY</td>\n",
       "      <td>Pep Boys - Manny Moe &amp; Jack (PBY) Prices, Divi...</td>\n",
       "      <td>&lt;p&gt;End of day open, high, low, close and volum...</td>\n",
       "      <td>2017-04-26 13:58:18</td>\n",
       "      <td>1987-12-30</td>\n",
       "      <td>2016-02-03</td>\n",
       "    </tr>\n",
       "    <tr>\n",
       "      <th>2280</th>\n",
       "      <td>PPC</td>\n",
       "      <td>Pilgrims Pride Corp. (PPC) Prices, Dividends, ...</td>\n",
       "      <td>&lt;p&gt;End of day open, high, low, close and volum...</td>\n",
       "      <td>2018-03-27 21:46:03</td>\n",
       "      <td>1987-12-30</td>\n",
       "      <td>2018-03-27</td>\n",
       "    </tr>\n",
       "    <tr>\n",
       "      <th>830</th>\n",
       "      <td>DISH</td>\n",
       "      <td>DISH Network Corporation (DISH) Prices, Divide...</td>\n",
       "      <td>&lt;p&gt;End of day open, high, low, close and volum...</td>\n",
       "      <td>2018-03-27 21:45:57</td>\n",
       "      <td>1995-06-21</td>\n",
       "      <td>2018-03-27</td>\n",
       "    </tr>\n",
       "    <tr>\n",
       "      <th>1493</th>\n",
       "      <td>INSM</td>\n",
       "      <td>Insmed Inc. (INSM) Prices, Dividends, Splits a...</td>\n",
       "      <td>&lt;p&gt;End of day open, high, low, close and volum...</td>\n",
       "      <td>2018-03-27 21:46:00</td>\n",
       "      <td>2000-06-01</td>\n",
       "      <td>2018-03-27</td>\n",
       "    </tr>\n",
       "  </tbody>\n",
       "</table>\n",
       "</div>"
      ],
      "text/plain": [
       "       code                                               name  \\\n",
       "1298   HALO  Halozyme Therapeutics Inc. (HALO) Prices, Divi...   \n",
       "2968   USTR  United Stationers Inc. (USTR) Prices, Dividend...   \n",
       "1065   FEIC  FEI Company (FEIC) Prices, Dividends, Splits a...   \n",
       "2539  SENEA  Seneca Foods Corp. (SENEA) Prices, Dividends, ...   \n",
       "2868    TSS  Total System Services Inc. (TSS) Prices, Divid...   \n",
       "631    CNSI  Comverse Inc. (CNSI) Prices, Dividends, Splits...   \n",
       "2163    PBY  Pep Boys - Manny Moe & Jack (PBY) Prices, Divi...   \n",
       "2280    PPC  Pilgrims Pride Corp. (PPC) Prices, Dividends, ...   \n",
       "830    DISH  DISH Network Corporation (DISH) Prices, Divide...   \n",
       "1493   INSM  Insmed Inc. (INSM) Prices, Dividends, Splits a...   \n",
       "\n",
       "                                            description         refreshed_at  \\\n",
       "1298  <p>End of day open, high, low, close and volum...  2018-03-27 21:45:59   \n",
       "2968  <p>End of day open, high, low, close and volum...  2017-04-26 14:40:08   \n",
       "1065  <p>End of day open, high, low, close and volum...  2017-04-26 13:01:00   \n",
       "2539  <p>End of day open, high, low, close and volum...  2018-03-27 21:46:04   \n",
       "2868  End of day open, high, low, close and volume, ...  2018-03-27 21:46:12   \n",
       "631   <p>End of day open, high, low, close and volum...  2017-04-26 15:31:11   \n",
       "2163  <p>End of day open, high, low, close and volum...  2017-04-26 13:58:18   \n",
       "2280  <p>End of day open, high, low, close and volum...  2018-03-27 21:46:03   \n",
       "830   <p>End of day open, high, low, close and volum...  2018-03-27 21:45:57   \n",
       "1493  <p>End of day open, high, low, close and volum...  2018-03-27 21:46:00   \n",
       "\n",
       "       from_date     to_date  \n",
       "1298  2004-03-16  2018-03-27  \n",
       "2968  1990-03-26  2015-05-29  \n",
       "1065  1995-06-01  2016-09-19  \n",
       "2539  1998-06-03  2018-03-27  \n",
       "2868  1989-06-30  2018-03-27  \n",
       "631   2012-10-24  2015-09-08  \n",
       "2163  1987-12-30  2016-02-03  \n",
       "2280  1987-12-30  2018-03-27  \n",
       "830   1995-06-21  2018-03-27  \n",
       "1493  2000-06-01  2018-03-27  "
      ]
     },
     "execution_count": 6,
     "metadata": {},
     "output_type": "execute_result"
    }
   ],
   "source": [
    "metadata_df.sample(10)"
   ]
  },
  {
   "cell_type": "code",
   "execution_count": 7,
   "metadata": {},
   "outputs": [
    {
     "data": {
      "text/html": [
       "<div>\n",
       "<style scoped>\n",
       "    .dataframe tbody tr th:only-of-type {\n",
       "        vertical-align: middle;\n",
       "    }\n",
       "\n",
       "    .dataframe tbody tr th {\n",
       "        vertical-align: top;\n",
       "    }\n",
       "\n",
       "    .dataframe thead th {\n",
       "        text-align: right;\n",
       "    }\n",
       "</style>\n",
       "<table border=\"1\" class=\"dataframe\">\n",
       "  <thead>\n",
       "    <tr style=\"text-align: right;\">\n",
       "      <th></th>\n",
       "      <th>{\"data\":{\"files\":[]</th>\n",
       "      <th>latest_full_data:null}}</th>\n",
       "    </tr>\n",
       "  </thead>\n",
       "  <tbody>\n",
       "  </tbody>\n",
       "</table>\n",
       "</div>"
      ],
      "text/plain": [
       "Empty DataFrame\n",
       "Columns: [{\"data\":{\"files\":[], latest_full_data:null}}]\n",
       "Index: []"
      ]
     },
     "execution_count": 7,
     "metadata": {},
     "output_type": "execute_result"
    }
   ],
   "source": [
    "dataset_df"
   ]
  },
  {
   "cell_type": "markdown",
   "metadata": {},
   "source": [
    "* Since the api for `get`'ing seems to be not working, we can use the **quandl** module to download the dataset.\n",
    "\n",
    "\n",
    "\n",
    "* The WIKI dataset has a huge variety of stocks and assets, so, we'll be dealing with either **one** for regression or **four**  when building a portfolio.\n"
   ]
  },
  {
   "cell_type": "code",
   "execution_count": 8,
   "metadata": {
    "scrolled": true
   },
   "outputs": [
    {
     "data": {
      "text/html": [
       "<div>\n",
       "<style scoped>\n",
       "    .dataframe tbody tr th:only-of-type {\n",
       "        vertical-align: middle;\n",
       "    }\n",
       "\n",
       "    .dataframe tbody tr th {\n",
       "        vertical-align: top;\n",
       "    }\n",
       "\n",
       "    .dataframe thead th {\n",
       "        text-align: right;\n",
       "    }\n",
       "</style>\n",
       "<table border=\"1\" class=\"dataframe\">\n",
       "  <thead>\n",
       "    <tr style=\"text-align: right;\">\n",
       "      <th></th>\n",
       "      <th>ticker</th>\n",
       "      <th>date</th>\n",
       "      <th>open</th>\n",
       "      <th>high</th>\n",
       "      <th>low</th>\n",
       "      <th>close</th>\n",
       "      <th>volume</th>\n",
       "      <th>ex-dividend</th>\n",
       "      <th>split_ratio</th>\n",
       "      <th>adj_open</th>\n",
       "      <th>adj_high</th>\n",
       "      <th>adj_low</th>\n",
       "      <th>adj_close</th>\n",
       "      <th>adj_volume</th>\n",
       "    </tr>\n",
       "  </thead>\n",
       "  <tbody>\n",
       "    <tr>\n",
       "      <th>0</th>\n",
       "      <td>YHOO</td>\n",
       "      <td>2017-06-16</td>\n",
       "      <td>52.79</td>\n",
       "      <td>53.30</td>\n",
       "      <td>51.900</td>\n",
       "      <td>52.5892</td>\n",
       "      <td>251032146.0</td>\n",
       "      <td>0.0</td>\n",
       "      <td>1.0</td>\n",
       "      <td>52.79</td>\n",
       "      <td>53.30</td>\n",
       "      <td>51.900</td>\n",
       "      <td>52.5892</td>\n",
       "      <td>251032146.0</td>\n",
       "    </tr>\n",
       "    <tr>\n",
       "      <th>1</th>\n",
       "      <td>YHOO</td>\n",
       "      <td>2017-06-15</td>\n",
       "      <td>52.17</td>\n",
       "      <td>52.76</td>\n",
       "      <td>51.645</td>\n",
       "      <td>52.5800</td>\n",
       "      <td>65808136.0</td>\n",
       "      <td>0.0</td>\n",
       "      <td>1.0</td>\n",
       "      <td>52.17</td>\n",
       "      <td>52.76</td>\n",
       "      <td>51.645</td>\n",
       "      <td>52.5800</td>\n",
       "      <td>65808136.0</td>\n",
       "    </tr>\n",
       "    <tr>\n",
       "      <th>2</th>\n",
       "      <td>YHOO</td>\n",
       "      <td>2017-06-14</td>\n",
       "      <td>52.42</td>\n",
       "      <td>54.26</td>\n",
       "      <td>52.160</td>\n",
       "      <td>52.6300</td>\n",
       "      <td>65466397.0</td>\n",
       "      <td>0.0</td>\n",
       "      <td>1.0</td>\n",
       "      <td>52.42</td>\n",
       "      <td>54.26</td>\n",
       "      <td>52.160</td>\n",
       "      <td>52.6300</td>\n",
       "      <td>65466397.0</td>\n",
       "    </tr>\n",
       "    <tr>\n",
       "      <th>3</th>\n",
       "      <td>YHOO</td>\n",
       "      <td>2017-06-13</td>\n",
       "      <td>53.65</td>\n",
       "      <td>54.08</td>\n",
       "      <td>52.000</td>\n",
       "      <td>52.0050</td>\n",
       "      <td>152590970.0</td>\n",
       "      <td>0.0</td>\n",
       "      <td>1.0</td>\n",
       "      <td>53.65</td>\n",
       "      <td>54.08</td>\n",
       "      <td>52.000</td>\n",
       "      <td>52.0050</td>\n",
       "      <td>152590970.0</td>\n",
       "    </tr>\n",
       "    <tr>\n",
       "      <th>4</th>\n",
       "      <td>YHOO</td>\n",
       "      <td>2017-06-12</td>\n",
       "      <td>53.79</td>\n",
       "      <td>54.55</td>\n",
       "      <td>52.600</td>\n",
       "      <td>53.1200</td>\n",
       "      <td>57480339.0</td>\n",
       "      <td>0.0</td>\n",
       "      <td>1.0</td>\n",
       "      <td>53.79</td>\n",
       "      <td>54.55</td>\n",
       "      <td>52.600</td>\n",
       "      <td>53.1200</td>\n",
       "      <td>57480339.0</td>\n",
       "    </tr>\n",
       "  </tbody>\n",
       "</table>\n",
       "</div>"
      ],
      "text/plain": [
       "  ticker       date   open   high     low    close       volume  ex-dividend  \\\n",
       "0   YHOO 2017-06-16  52.79  53.30  51.900  52.5892  251032146.0          0.0   \n",
       "1   YHOO 2017-06-15  52.17  52.76  51.645  52.5800   65808136.0          0.0   \n",
       "2   YHOO 2017-06-14  52.42  54.26  52.160  52.6300   65466397.0          0.0   \n",
       "3   YHOO 2017-06-13  53.65  54.08  52.000  52.0050  152590970.0          0.0   \n",
       "4   YHOO 2017-06-12  53.79  54.55  52.600  53.1200   57480339.0          0.0   \n",
       "\n",
       "   split_ratio  adj_open  adj_high  adj_low  adj_close   adj_volume  \n",
       "0          1.0     52.79     53.30   51.900    52.5892  251032146.0  \n",
       "1          1.0     52.17     52.76   51.645    52.5800   65808136.0  \n",
       "2          1.0     52.42     54.26   52.160    52.6300   65466397.0  \n",
       "3          1.0     53.65     54.08   52.000    52.0050  152590970.0  \n",
       "4          1.0     53.79     54.55   52.600    53.1200   57480339.0  "
      ]
     },
     "execution_count": 8,
     "metadata": {},
     "output_type": "execute_result"
    }
   ],
   "source": [
    "quandl.ApiConfig.api_key = api_key\n",
    "\n",
    "dataset_df = quandl.get_table('WIKI/PRICES', ticker = ['CENX', 'QCOM', 'YHOO', 'MCD'], \n",
    "                        date = {'gte': dates_range[0], 'lte': dates_range[1]},\n",
    "                        paginate=True).reset_index(drop=True)\n",
    "\n",
    "dataset_df.head()"
   ]
  },
  {
   "cell_type": "markdown",
   "metadata": {},
   "source": [
    "## Peaking on the data"
   ]
  },
  {
   "cell_type": "code",
   "execution_count": 9,
   "metadata": {},
   "outputs": [],
   "source": [
    "from pandas.plotting import register_matplotlib_converters\n",
    "from mpl_finance import candlestick_ohlc\n",
    "import matplotlib.dates as mdates\n",
    "\n",
    "data_to_plot = dataset_df[dataset_df.ticker == 'MCD'][['open', 'high', 'low', 'close', 'date']].copy()\n",
    "data_to_plot['date'] = data_to_plot.date.map(mdates.date2num).copy()"
   ]
  },
  {
   "cell_type": "code",
   "execution_count": 10,
   "metadata": {},
   "outputs": [],
   "source": [
    "%matplotlib inline"
   ]
  },
  {
   "cell_type": "code",
   "execution_count": 11,
   "metadata": {
    "scrolled": false
   },
   "outputs": [
    {
     "name": "stderr",
     "output_type": "stream",
     "text": [
      "c:\\python36\\lib\\site-packages\\pandas\\plotting\\_converter.py:129: FutureWarning: Using an implicitly registered datetime converter for a matplotlib plotting method. The converter was registered by pandas on import. Future versions of pandas will require you to explicitly register matplotlib converters.\n",
      "\n",
      "To register the converters:\n",
      "\t>>> from pandas.plotting import register_matplotlib_converters\n",
      "\t>>> register_matplotlib_converters()\n",
      "  warnings.warn(msg, FutureWarning)\n"
     ]
    },
    {
     "data": {
      "image/png": "[encoded data removed]",
      "text/plain": [
       "<Figure size 1152x432 with 1 Axes>"
      ]
     },
     "metadata": {
      "needs_background": "light"
     },
     "output_type": "display_data"
    }
   ],
   "source": [
    "plt.figure(figsize=(16, 6))\n",
    "ax = plt.subplot()\n",
    "candlestick_ohlc(ax, data_to_plot[['date', 'open', 'high', 'low', 'close']].values, width=.5, colorup='g', colordown='r')\n",
    "ax.xaxis_date()\n",
    "ax.grid()\n",
    "plt.show()\n",
    "\n",
    "del data_to_plot"
   ]
  },
  {
   "cell_type": "markdown",
   "metadata": {},
   "source": [
    "## Train, Validation and test split"
   ]
  },
  {
   "cell_type": "markdown",
   "metadata": {},
   "source": [
    "* A **true** train/val/test split is one with no **leakage** to/from train/validation/test. \n",
    "\n",
    "\n",
    "* So ideally, the test should be another symbol (*e.g.*: train with **Tesla**, validate in another period of time using another asset). \n",
    "\n",
    "\n",
    "* But this would only prove the robustness and generalization of our model, while possibly, not maximizing profits in a single asset. Besides, multiple asset analysis is better done using a **Modern Portfolio Theory** (MPT, as proposed by *Markowitz*). \n",
    "\n",
    "\n",
    "* Thus, the split will be done in order to only avoid **lookahead bias** (train with day 1 and day 3, and test with day 2).\n",
    "\n",
    "\n",
    "* Blocked Time Series Splits scheme of cross validation and training of our model will be used. We will also use a training in the whole data giving equal importance to all the data.\n",
    "\n",
    "\n",
    "![title](assets/cross_validation2.png)\n",
    "\n",
    "\n",
    "* For testing the data as soon as a architecture or algorithm is defined, we can use the Time Series Splits.:\n",
    "![title](assets/cross_validation1.png)"
   ]
  },
  {
   "cell_type": "code",
   "execution_count": 12,
   "metadata": {},
   "outputs": [],
   "source": [
    "TRAIN_VAL_PERCENTAGE = 0.90\n",
    "TEST_PERCENTAGE = 1 - TRAIN_VAL_PERCENTAGE\n",
    "\n",
    "full_dates_range = pd.date_range(start=dates_range[0], end=dates_range[1]).sort_values()\n",
    "\n",
    "train_val_date_range = full_dates_range[:int(len(full_dates_range) * TRAIN_VAL_PERCENTAGE)].sort_values()\n",
    "test_date_range = pd.DatetimeIndex(set(full_dates_range) - set(train_val_date_range)).sort_values()"
   ]
  },
  {
   "cell_type": "code",
   "execution_count": 13,
   "metadata": {},
   "outputs": [],
   "source": [
    "dataset_df.loc[dataset_df.date.isin(train_val_date_range), 'set'] = 'TRAIN_VAL'\n",
    "dataset_df.loc[dataset_df.date.isin(test_date_range), 'set'] = 'TEST'"
   ]
  },
  {
   "cell_type": "code",
   "execution_count": 14,
   "metadata": {},
   "outputs": [],
   "source": [
    "class BlockingTimeSeriesSplit:\n",
    "    def __init__(self, n_splits, train_val_percentage=0.8):\n",
    "        self._train_val_percentage = train_val_percentage\n",
    "        self._n_splits = n_splits\n",
    "    \n",
    "    @property\n",
    "    def n_splits(self):\n",
    "        return self._n_splits\n",
    "    \n",
    "    def split(self, X):\n",
    "        n_samples = len(X)\n",
    "        k_fold_size = n_samples // self._n_splits\n",
    "        indices = np.arange(n_samples)\n",
    "\n",
    "        for i in range(self._n_splits):\n",
    "            begin = i * k_fold_size\n",
    "            end = begin + k_fold_size\n",
    "            mid = int(self._train_val_percentage * (end - begin)) + begin\n",
    "            yield indices[begin:mid], indices[mid:end]"
   ]
  },
  {
   "cell_type": "code",
   "execution_count": 15,
   "metadata": {},
   "outputs": [],
   "source": [
    "from sklearn.model_selection import TimeSeriesSplit\n",
    "\n",
    "train_splits = BlockingTimeSeriesSplit(n_splits=6, train_val_percentage=TRAIN_VAL_PERCENTAGE)\n",
    "testing_splits = TimeSeriesSplit(n_splits=4)"
   ]
  },
  {
   "cell_type": "markdown",
   "metadata": {},
   "source": [
    "# III) Feature engineering"
   ]
  },
  {
   "cell_type": "markdown",
   "metadata": {},
   "source": [
    "* As discussed in the first section, it is useful to transform the OCHL features to something manageable mathematically, such as, a (locally) stationary time series.\n"
   ]
  },
  {
   "cell_type": "code",
   "execution_count": 16,
   "metadata": {},
   "outputs": [],
   "source": [
    "primary_features_columns = ['open', 'high', 'low', 'close', 'volume']"
   ]
  },
  {
   "cell_type": "code",
   "execution_count": 17,
   "metadata": {},
   "outputs": [],
   "source": [
    "features_df = dataset_df[primary_features_columns + ['ticker', 'set', 'date']].copy()"
   ]
  },
  {
   "cell_type": "markdown",
   "metadata": {},
   "source": [
    "## Analytical features"
   ]
  },
  {
   "cell_type": "markdown",
   "metadata": {},
   "source": [
    "### Daily returns."
   ]
  },
  {
   "cell_type": "markdown",
   "metadata": {},
   "source": [
    "* One can use the relative returns of one single day as feature, since it is a first order derivative, thus, conveying stationarity to out time series.\n",
    "\n",
    "$$\\frac{X(t_{close})}{X(t_{open})} - 1$$"
   ]
  },
  {
   "cell_type": "code",
   "execution_count": 18,
   "metadata": {},
   "outputs": [],
   "source": [
    "features_df['daily_returns'] = (features_df.close / features_df.open) - 1"
   ]
  },
  {
   "cell_type": "markdown",
   "metadata": {},
   "source": [
    "### Log returns.\n",
    "\n",
    "* Among the advantages explored in the **section I)** of using returns instead of the raw data, we can further improve the feature of time series so it displays desirable statistical properties. One usual transform is known as **Log-returns**, defined as follows:\n",
    "\n",
    "\n",
    "$$log(\\frac{X(t)}{X(t-1)})$$\n",
    "\n",
    "\n",
    "* The desirable properties of using log-returns can be summed in as being prone to follow a normal distribution and being able to \"accumulate\" returns over time with simple additions instead of multiplications)"
   ]
  },
  {
   "cell_type": "code",
   "execution_count": 19,
   "metadata": {},
   "outputs": [],
   "source": [
    "def log_returns(dataframe):\n",
    "    sorted_dataframe = dataframe.sort_values(by='date')\n",
    "    sorted_dataframe['log_returns'] = np.log(sorted_dataframe.close / sorted_dataframe.close.shift(1))\n",
    "    return sorted_dataframe\n",
    "    \n",
    "features_df = features_df.groupby('ticker')\\\n",
    "    .apply(log_returns).droplevel(0)"
   ]
  },
  {
   "cell_type": "markdown",
   "metadata": {},
   "source": [
    "## Market Features (Techinical indicators)"
   ]
  },
  {
   "cell_type": "markdown",
   "metadata": {},
   "source": [
    "* For traders who are used to manually trade, It's often used a common analysis called **Technical Analysis**, in which allegedly, it is possible to infer market movements such as *momentum*, *overbought*, *oversold*, *breakout break* and *support breakout* through **technical indicators** such as (*e.g.* MACD, RSI, EMA, Bollinger Bands, Stochastic oscillators).\n",
    "\n",
    "\n",
    "\n",
    "* There are **no**$^{I}$  proves so far that technical indicators have any real predictive power over the market besides the mere fact that human traders, hedge funds and firms tend to use them, so, by the efficient market hypothesis, the market will react in accordance with those buyers and sellers.\n",
    "\n",
    "\n",
    "* Thus, we are going to use one of those indicators because it can at least predict if traders are using it too much or otherwise.\n",
    "\n",
    "\n",
    "\n",
    "\n",
    "<sup>$^{I}$: *Burton G. Malkiel*, A randon walk down wall street.<sup>"
   ]
  },
  {
   "cell_type": "markdown",
   "metadata": {},
   "source": [
    "### Price-Volume Trend"
   ]
  },
  {
   "cell_type": "markdown",
   "metadata": {},
   "source": [
    "* Sharp changes in the price that follows a sharp change in volume usually represents a **resistance** or **support**, meaning that traders will consider the market overbought (or oversold) and start to sell (or buy).\n",
    "\n",
    "\n",
    "* On Balance Volume (OBV) Is an indicator that simply adds or subtracts the volume from a accumulator depending on the return of the current day."
   ]
  },
  {
   "cell_type": "code",
   "execution_count": 20,
   "metadata": {
    "scrolled": true
   },
   "outputs": [],
   "source": [
    "def on_balance_volume(dataframe):\n",
    "    sorted_dataframe = dataframe.sort_values(by='date')\n",
    "    previous_row = None\n",
    "    def _compute_obv_for_row(row):\n",
    "        nonlocal previous_row\n",
    "        if previous_row is not None:\n",
    "            row['obv'] = previous_row['obv'] + row['volume'] if row['close'] > previous_row['close'] else\\\n",
    "                         previous_row['obv'] - row['volume'] if row['close'] < previous_row['close'] else\\\n",
    "                         previous_row['obv']\n",
    "        else:\n",
    "            row['obv'] = np.nan\n",
    "            previous_row = row.copy()\n",
    "            previous_row['obv'] = .0\n",
    "        return row\n",
    "\n",
    "    return sorted_dataframe.apply(_compute_obv_for_row, axis=1)\n",
    "\n",
    "features_df = features_df.groupby('ticker')\\\n",
    "    .apply(on_balance_volume).reset_index(drop=True)"
   ]
  },
  {
   "cell_type": "markdown",
   "metadata": {},
   "source": [
    "### Normalization"
   ]
  },
  {
   "cell_type": "markdown",
   "metadata": {},
   "source": [
    "* In order give no priors to our models, the available features will be normalized by their respective standard deviation in the train so they have the same *a-priori* importance, since their power will always be 1."
   ]
  },
  {
   "cell_type": "code",
   "execution_count": 21,
   "metadata": {},
   "outputs": [],
   "source": [
    "# Save standard deviations for reconstructing the data later.\n",
    "standard_deviation = {}\n",
    "\n",
    "def normalize(dataframe):\n",
    "    global standard_deviation\n",
    "    asset = dataframe.ticker.iloc[0]\n",
    "    \n",
    "    feature_columns = primary_features_columns + ['daily_returns', 'log_returns', 'obv']\n",
    "    _features_df = dataframe[feature_columns]\n",
    "    \n",
    "    standard_deviation[asset] = _features_df[dataframe.set == 'TRAIN_VAL'].std()\n",
    "    _features_df = _features_df.div(standard_deviation[asset])\n",
    "    \n",
    "    dataframe[feature_columns] = _features_df\n",
    "    return dataframe\n",
    "    \n",
    "features_df = features_df.groupby('ticker')\\\n",
    "    .apply(normalize).reset_index(drop=True)"
   ]
  },
  {
   "cell_type": "code",
   "execution_count": 22,
   "metadata": {},
   "outputs": [
    {
     "data": {
      "image/png": "[encoded data removed]",
      "text/plain": [
       "<Figure size 1152x576 with 3 Axes>"
      ]
     },
     "metadata": {
      "needs_background": "light"
     },
     "output_type": "display_data"
    }
   ],
   "source": [
    "features_df[features_df.ticker == 'CENX'][['daily_returns', 'log_returns', 'obv']]\\\n",
    "    .plot(subplots=True, figsize=(16, 8), grid=True, title='CENX')\n",
    "plt.show()"
   ]
  },
  {
   "cell_type": "markdown",
   "metadata": {},
   "source": [
    "$$\\frac{log(\\frac{X(t)}{X(t-1)})}{std}$$"
   ]
  },
  {
   "cell_type": "markdown",
   "metadata": {},
   "source": [
    "# IV) Training\n"
   ]
  },
  {
   "cell_type": "markdown",
   "metadata": {},
   "source": [
    "## Regression task"
   ]
  },
  {
   "cell_type": "markdown",
   "metadata": {},
   "source": [
    "* Windows of five days of features with 3 days of overlap will be used for the regression task."
   ]
  },
  {
   "cell_type": "code",
   "execution_count": 23,
   "metadata": {},
   "outputs": [],
   "source": [
    "from collections import namedtuple"
   ]
  },
  {
   "cell_type": "code",
   "execution_count": 24,
   "metadata": {},
   "outputs": [],
   "source": [
    "ASSET_FOR_REGRESSION = 'MCD'"
   ]
  },
  {
   "cell_type": "code",
   "execution_count": 25,
   "metadata": {},
   "outputs": [],
   "source": [
    "Sample = namedtuple('Sample', ['windowed_features', 'scalar_features', 'target'])"
   ]
  },
  {
   "cell_type": "code",
   "execution_count": 26,
   "metadata": {},
   "outputs": [],
   "source": [
    "def get_samples_and_targets(\n",
    "        dataframe, *, \n",
    "        target_column, windowed_features_columns=[], \n",
    "        scalar_features_columns=[], window_size=5, overlap=3\n",
    "):\n",
    "    return [\n",
    "        Sample(\n",
    "            windowed_features=dataframe.iloc[idx - window_size:idx][windowed_features_columns].values.copy(),\n",
    "            scalar_features=dataframe.iloc[idx - 1][scalar_features_columns].values.copy(),\n",
    "            target=dataframe.iloc[idx][target_column].copy(),\n",
    "        )\n",
    "        for idx in range(window_size, len(dataframe), window_size - overlap)\n",
    "    ]\n"
   ]
  },
  {
   "cell_type": "markdown",
   "metadata": {},
   "source": [
    "## Separate the test samples"
   ]
  },
  {
   "cell_type": "code",
   "execution_count": 27,
   "metadata": {},
   "outputs": [],
   "source": [
    "test_set = features_df[(features_df.ticker == ASSET_FOR_REGRESSION) &\\\n",
    "                       (features_df.set == 'TEST')]\n",
    "\n",
    "test_set = test_set[primary_features_columns + ['daily_returns', 'log_returns', 'obv', 'date']]\\\n",
    "                .sort_values('date')\\\n",
    "                .reset_index(drop=True)"
   ]
  },
  {
   "cell_type": "code",
   "execution_count": 28,
   "metadata": {},
   "outputs": [],
   "source": [
    "test_samples = get_samples_and_targets(\n",
    "    test_set, \n",
    "    target_column='log_returns',\n",
    "    windowed_features_columns=['open', 'high', 'low', 'close'], \n",
    "    scalar_features_columns=['daily_returns', 'log_returns', 'obv'],\n",
    "    window_size=5, overlap=4)"
   ]
  },
  {
   "cell_type": "markdown",
   "metadata": {},
   "source": [
    "## Create samples for train"
   ]
  },
  {
   "cell_type": "code",
   "execution_count": 29,
   "metadata": {},
   "outputs": [],
   "source": [
    "train_val_set = features_df[(features_df.ticker == ASSET_FOR_REGRESSION) &\\\n",
    "                            (features_df.set == 'TRAIN_VAL')]\n",
    "\n",
    "train_val_set = train_val_set[primary_features_columns + ['daily_returns', 'log_returns', 'obv', 'date']]\\\n",
    "                .sort_values('date')\\\n",
    "                .reset_index(drop=True)"
   ]
  },
  {
   "cell_type": "code",
   "execution_count": 30,
   "metadata": {},
   "outputs": [],
   "source": [
    "train_val_samples = get_samples_and_targets(\n",
    "    train_val_set, \n",
    "    target_column='log_returns',\n",
    "    windowed_features_columns=['open', 'high', 'low', 'close'], \n",
    "    scalar_features_columns=['daily_returns', 'log_returns', 'obv'],\n",
    "    window_size=5, overlap=3)"
   ]
  },
  {
   "cell_type": "markdown",
   "metadata": {},
   "source": [
    "## Create simple model for linear regression"
   ]
  },
  {
   "cell_type": "code",
   "execution_count": 31,
   "metadata": {},
   "outputs": [],
   "source": [
    "import torch"
   ]
  },
  {
   "cell_type": "code",
   "execution_count": 32,
   "metadata": {},
   "outputs": [],
   "source": [
    "FLATTENED_SAMPLE_SIZE = train_val_samples[0].windowed_features.ravel().shape[0] +\\\n",
    "                        train_val_samples[0].scalar_features.shape[0]"
   ]
  },
  {
   "cell_type": "code",
   "execution_count": 133,
   "metadata": {},
   "outputs": [],
   "source": [
    "class LinearRegression(torch.nn.Module):\n",
    "    def __init__(self, input_size, output_size):\n",
    "        super().__init__()\n",
    "        self.w = torch.nn.Parameter(torch.randn(output_size, input_size))\n",
    "        self.b = torch.nn.Parameter(torch.randn(output_size))\n",
    "        \n",
    "    def forward(self, x):\n",
    "        y = x @ self.w.t() + self.b\n",
    "        return y.view(-1)\n",
    "        \n",
    "model = LinearRegression(FLATTENED_SAMPLE_SIZE, 1)\n",
    "criterion = torch.nn.MSELoss(reduction='mean')\n",
    "optimizer = torch.optim.SGD(model.parameters(), lr=0.01)"
   ]
  },
  {
   "cell_type": "code",
   "execution_count": 134,
   "metadata": {},
   "outputs": [],
   "source": [
    "def train_n_epochs(model, criterion, optimizer, samples, n_epochs):\n",
    "    for _ in range(n_epochs):\n",
    "        print('loss: ', train_epoch(model, criterion, optimizer, samples))\n",
    "        \n",
    "    \n",
    "def train_epoch(model, criterion, optimizer, train_samples):\n",
    "    train_data = flatten_batch_of_samples(train_samples)\n",
    "    target = torch.FloatTensor(list(map(lambda sample: sample.target, train_samples)))\n",
    "    target_pred = model(train_data)\n",
    "    loss = criterion(target, target_pred)\n",
    "    model.zero_grad()\n",
    "    loss.backward()\n",
    "    optimizer.step()\n",
    "    return loss"
   ]
  },
  {
   "cell_type": "code",
   "execution_count": 136,
   "metadata": {},
   "outputs": [
    {
     "name": "stdout",
     "output_type": "stream",
     "text": [
      "loss:  tensor(0.9911, grad_fn=<MeanBackward0>)\n",
      "loss:  tensor(0.9911, grad_fn=<MeanBackward0>)\n",
      "loss:  tensor(0.9910, grad_fn=<MeanBackward0>)\n",
      "loss:  tensor(0.9910, grad_fn=<MeanBackward0>)\n",
      "loss:  tensor(0.9910, grad_fn=<MeanBackward0>)\n",
      "loss:  tensor(0.9909, grad_fn=<MeanBackward0>)\n",
      "loss:  tensor(0.9909, grad_fn=<MeanBackward0>)\n",
      "loss:  tensor(0.9909, grad_fn=<MeanBackward0>)\n",
      "loss:  tensor(0.9909, grad_fn=<MeanBackward0>)\n",
      "loss:  tensor(0.9908, grad_fn=<MeanBackward0>)\n",
      "loss:  tensor(0.9908, grad_fn=<MeanBackward0>)\n",
      "loss:  tensor(0.9908, grad_fn=<MeanBackward0>)\n",
      "loss:  tensor(0.9907, grad_fn=<MeanBackward0>)\n",
      "loss:  tensor(0.9907, grad_fn=<MeanBackward0>)\n",
      "loss:  tensor(0.9907, grad_fn=<MeanBackward0>)\n",
      "loss:  tensor(0.9906, grad_fn=<MeanBackward0>)\n",
      "loss:  tensor(0.9906, grad_fn=<MeanBackward0>)\n",
      "loss:  tensor(0.9906, grad_fn=<MeanBackward0>)\n",
      "loss:  tensor(0.9905, grad_fn=<MeanBackward0>)\n",
      "loss:  tensor(0.9905, grad_fn=<MeanBackward0>)\n",
      "loss:  tensor(0.9905, grad_fn=<MeanBackward0>)\n",
      "loss:  tensor(0.9905, grad_fn=<MeanBackward0>)\n",
      "loss:  tensor(0.9904, grad_fn=<MeanBackward0>)\n",
      "loss:  tensor(0.9904, grad_fn=<MeanBackward0>)\n",
      "loss:  tensor(0.9904, grad_fn=<MeanBackward0>)\n",
      "loss:  tensor(0.9903, grad_fn=<MeanBackward0>)\n",
      "loss:  tensor(0.9903, grad_fn=<MeanBackward0>)\n",
      "loss:  tensor(0.9903, grad_fn=<MeanBackward0>)\n",
      "loss:  tensor(0.9903, grad_fn=<MeanBackward0>)\n",
      "loss:  tensor(0.9902, grad_fn=<MeanBackward0>)\n",
      "loss:  tensor(0.9902, grad_fn=<MeanBackward0>)\n",
      "loss:  tensor(0.9902, grad_fn=<MeanBackward0>)\n",
      "loss:  tensor(0.9901, grad_fn=<MeanBackward0>)\n",
      "loss:  tensor(0.9901, grad_fn=<MeanBackward0>)\n",
      "loss:  tensor(0.9901, grad_fn=<MeanBackward0>)\n",
      "loss:  tensor(0.9901, grad_fn=<MeanBackward0>)\n",
      "loss:  tensor(0.9900, grad_fn=<MeanBackward0>)\n",
      "loss:  tensor(0.9900, grad_fn=<MeanBackward0>)\n",
      "loss:  tensor(0.9900, grad_fn=<MeanBackward0>)\n",
      "loss:  tensor(0.9900, grad_fn=<MeanBackward0>)\n",
      "loss:  tensor(0.9899, grad_fn=<MeanBackward0>)\n",
      "loss:  tensor(0.9899, grad_fn=<MeanBackward0>)\n",
      "loss:  tensor(0.9899, grad_fn=<MeanBackward0>)\n",
      "loss:  tensor(0.9899, grad_fn=<MeanBackward0>)\n",
      "loss:  tensor(0.9898, grad_fn=<MeanBackward0>)\n",
      "loss:  tensor(0.9898, grad_fn=<MeanBackward0>)\n",
      "loss:  tensor(0.9898, grad_fn=<MeanBackward0>)\n",
      "loss:  tensor(0.9898, grad_fn=<MeanBackward0>)\n",
      "loss:  tensor(0.9897, grad_fn=<MeanBackward0>)\n",
      "loss:  tensor(0.9897, grad_fn=<MeanBackward0>)\n",
      "loss:  tensor(0.9897, grad_fn=<MeanBackward0>)\n",
      "loss:  tensor(0.9897, grad_fn=<MeanBackward0>)\n",
      "loss:  tensor(0.9896, grad_fn=<MeanBackward0>)\n",
      "loss:  tensor(0.9896, grad_fn=<MeanBackward0>)\n",
      "loss:  tensor(0.9896, grad_fn=<MeanBackward0>)\n",
      "loss:  tensor(0.9896, grad_fn=<MeanBackward0>)\n",
      "loss:  tensor(0.9895, grad_fn=<MeanBackward0>)\n",
      "loss:  tensor(0.9895, grad_fn=<MeanBackward0>)\n",
      "loss:  tensor(0.9895, grad_fn=<MeanBackward0>)\n",
      "loss:  tensor(0.9895, grad_fn=<MeanBackward0>)\n",
      "loss:  tensor(0.9895, grad_fn=<MeanBackward0>)\n",
      "loss:  tensor(0.9894, grad_fn=<MeanBackward0>)\n",
      "loss:  tensor(0.9894, grad_fn=<MeanBackward0>)\n",
      "loss:  tensor(0.9894, grad_fn=<MeanBackward0>)\n",
      "loss:  tensor(0.9894, grad_fn=<MeanBackward0>)\n",
      "loss:  tensor(0.9893, grad_fn=<MeanBackward0>)\n",
      "loss:  tensor(0.9893, grad_fn=<MeanBackward0>)\n",
      "loss:  tensor(0.9893, grad_fn=<MeanBackward0>)\n",
      "loss:  tensor(0.9893, grad_fn=<MeanBackward0>)\n",
      "loss:  tensor(0.9893, grad_fn=<MeanBackward0>)\n",
      "loss:  tensor(0.9892, grad_fn=<MeanBackward0>)\n",
      "loss:  tensor(0.9892, grad_fn=<MeanBackward0>)\n",
      "loss:  tensor(0.9892, grad_fn=<MeanBackward0>)\n",
      "loss:  tensor(0.9892, grad_fn=<MeanBackward0>)\n",
      "loss:  tensor(0.9892, grad_fn=<MeanBackward0>)\n",
      "loss:  tensor(0.9891, grad_fn=<MeanBackward0>)\n",
      "loss:  tensor(0.9891, grad_fn=<MeanBackward0>)\n",
      "loss:  tensor(0.9891, grad_fn=<MeanBackward0>)\n",
      "loss:  tensor(0.9891, grad_fn=<MeanBackward0>)\n",
      "loss:  tensor(0.9891, grad_fn=<MeanBackward0>)\n",
      "loss:  tensor(0.9890, grad_fn=<MeanBackward0>)\n",
      "loss:  tensor(0.9890, grad_fn=<MeanBackward0>)\n",
      "loss:  tensor(0.9890, grad_fn=<MeanBackward0>)\n",
      "loss:  tensor(0.9890, grad_fn=<MeanBackward0>)\n",
      "loss:  tensor(0.9890, grad_fn=<MeanBackward0>)\n",
      "loss:  tensor(0.9889, grad_fn=<MeanBackward0>)\n",
      "loss:  tensor(0.9889, grad_fn=<MeanBackward0>)\n",
      "loss:  tensor(0.9889, grad_fn=<MeanBackward0>)\n",
      "loss:  tensor(0.9889, grad_fn=<MeanBackward0>)\n",
      "loss:  tensor(0.9889, grad_fn=<MeanBackward0>)\n",
      "loss:  tensor(0.9888, grad_fn=<MeanBackward0>)\n",
      "loss:  tensor(0.9888, grad_fn=<MeanBackward0>)\n",
      "loss:  tensor(0.9888, grad_fn=<MeanBackward0>)\n",
      "loss:  tensor(0.9888, grad_fn=<MeanBackward0>)\n",
      "loss:  tensor(0.9888, grad_fn=<MeanBackward0>)\n",
      "loss:  tensor(0.9888, grad_fn=<MeanBackward0>)\n",
      "loss:  tensor(0.9887, grad_fn=<MeanBackward0>)\n",
      "loss:  tensor(0.9887, grad_fn=<MeanBackward0>)\n",
      "loss:  tensor(0.9887, grad_fn=<MeanBackward0>)\n",
      "loss:  tensor(0.9887, grad_fn=<MeanBackward0>)\n",
      "loss:  tensor(0.9887, grad_fn=<MeanBackward0>)\n",
      "loss:  tensor(0.9887, grad_fn=<MeanBackward0>)\n",
      "loss:  tensor(0.9886, grad_fn=<MeanBackward0>)\n",
      "loss:  tensor(0.9886, grad_fn=<MeanBackward0>)\n",
      "loss:  tensor(0.9886, grad_fn=<MeanBackward0>)\n",
      "loss:  tensor(0.9886, grad_fn=<MeanBackward0>)\n",
      "loss:  tensor(0.9886, grad_fn=<MeanBackward0>)\n",
      "loss:  tensor(0.9886, grad_fn=<MeanBackward0>)\n",
      "loss:  tensor(0.9885, grad_fn=<MeanBackward0>)\n",
      "loss:  tensor(0.9885, grad_fn=<MeanBackward0>)\n",
      "loss:  tensor(0.9885, grad_fn=<MeanBackward0>)\n",
      "loss:  tensor(0.9885, grad_fn=<MeanBackward0>)\n",
      "loss:  tensor(0.9885, grad_fn=<MeanBackward0>)\n",
      "loss:  tensor(0.9885, grad_fn=<MeanBackward0>)\n",
      "loss:  tensor(0.9885, grad_fn=<MeanBackward0>)\n",
      "loss:  tensor(0.9884, grad_fn=<MeanBackward0>)\n",
      "loss:  tensor(0.9884, grad_fn=<MeanBackward0>)\n",
      "loss:  tensor(0.9884, grad_fn=<MeanBackward0>)\n",
      "loss:  tensor(0.9884, grad_fn=<MeanBackward0>)\n",
      "loss:  tensor(0.9884, grad_fn=<MeanBackward0>)\n",
      "loss:  tensor(0.9884, grad_fn=<MeanBackward0>)\n",
      "loss:  tensor(0.9883, grad_fn=<MeanBackward0>)\n",
      "loss:  tensor(0.9883, grad_fn=<MeanBackward0>)\n",
      "loss:  tensor(0.9883, grad_fn=<MeanBackward0>)\n",
      "loss:  tensor(0.9883, grad_fn=<MeanBackward0>)\n",
      "loss:  tensor(0.9883, grad_fn=<MeanBackward0>)\n",
      "loss:  tensor(0.9883, grad_fn=<MeanBackward0>)\n",
      "loss:  tensor(0.9883, grad_fn=<MeanBackward0>)\n",
      "loss:  tensor(0.9882, grad_fn=<MeanBackward0>)\n",
      "loss:  tensor(0.9882, grad_fn=<MeanBackward0>)\n",
      "loss:  tensor(0.9882, grad_fn=<MeanBackward0>)\n",
      "loss:  tensor(0.9882, grad_fn=<MeanBackward0>)\n",
      "loss:  tensor(0.9882, grad_fn=<MeanBackward0>)\n",
      "loss:  tensor(0.9882, grad_fn=<MeanBackward0>)\n",
      "loss:  tensor(0.9882, grad_fn=<MeanBackward0>)\n",
      "loss:  tensor(0.9882, grad_fn=<MeanBackward0>)\n",
      "loss:  tensor(0.9881, grad_fn=<MeanBackward0>)\n",
      "loss:  tensor(0.9881, grad_fn=<MeanBackward0>)\n",
      "loss:  tensor(0.9881, grad_fn=<MeanBackward0>)\n",
      "loss:  tensor(0.9881, grad_fn=<MeanBackward0>)\n",
      "loss:  tensor(0.9881, grad_fn=<MeanBackward0>)\n",
      "loss:  tensor(0.9881, grad_fn=<MeanBackward0>)\n",
      "loss:  tensor(0.9881, grad_fn=<MeanBackward0>)\n",
      "loss:  tensor(0.9880, grad_fn=<MeanBackward0>)\n",
      "loss:  tensor(0.9880, grad_fn=<MeanBackward0>)\n",
      "loss:  tensor(0.9880, grad_fn=<MeanBackward0>)\n",
      "loss:  tensor(0.9880, grad_fn=<MeanBackward0>)\n",
      "loss:  tensor(0.9880, grad_fn=<MeanBackward0>)\n",
      "loss:  tensor(0.9880, grad_fn=<MeanBackward0>)\n",
      "loss:  tensor(0.9880, grad_fn=<MeanBackward0>)\n",
      "loss:  tensor(0.9880, grad_fn=<MeanBackward0>)\n",
      "loss:  tensor(0.9880, grad_fn=<MeanBackward0>)\n",
      "loss:  tensor(0.9879, grad_fn=<MeanBackward0>)\n",
      "loss:  tensor(0.9879, grad_fn=<MeanBackward0>)\n",
      "loss:  tensor(0.9879, grad_fn=<MeanBackward0>)\n",
      "loss:  tensor(0.9879, grad_fn=<MeanBackward0>)\n",
      "loss:  tensor(0.9879, grad_fn=<MeanBackward0>)\n",
      "loss:  tensor(0.9879, grad_fn=<MeanBackward0>)\n",
      "loss:  tensor(0.9879, grad_fn=<MeanBackward0>)\n",
      "loss:  tensor(0.9879, grad_fn=<MeanBackward0>)\n",
      "loss:  tensor(0.9878, grad_fn=<MeanBackward0>)\n",
      "loss:  tensor(0.9878, grad_fn=<MeanBackward0>)\n",
      "loss:  tensor(0.9878, grad_fn=<MeanBackward0>)\n",
      "loss:  tensor(0.9878, grad_fn=<MeanBackward0>)\n",
      "loss:  tensor(0.9878, grad_fn=<MeanBackward0>)\n",
      "loss:  tensor(0.9878, grad_fn=<MeanBackward0>)\n",
      "loss:  tensor(0.9878, grad_fn=<MeanBackward0>)\n",
      "loss:  tensor(0.9878, grad_fn=<MeanBackward0>)\n",
      "loss:  tensor(0.9878, grad_fn=<MeanBackward0>)\n",
      "loss:  tensor(0.9878, grad_fn=<MeanBackward0>)\n",
      "loss:  tensor(0.9877, grad_fn=<MeanBackward0>)\n",
      "loss:  tensor(0.9877, grad_fn=<MeanBackward0>)\n",
      "loss:  tensor(0.9877, grad_fn=<MeanBackward0>)\n",
      "loss:  tensor(0.9877, grad_fn=<MeanBackward0>)\n"
     ]
    },
    {
     "name": "stdout",
     "output_type": "stream",
     "text": [
      "loss:  tensor(0.9877, grad_fn=<MeanBackward0>)\n",
      "loss:  tensor(0.9877, grad_fn=<MeanBackward0>)\n",
      "loss:  tensor(0.9877, grad_fn=<MeanBackward0>)\n",
      "loss:  tensor(0.9877, grad_fn=<MeanBackward0>)\n",
      "loss:  tensor(0.9877, grad_fn=<MeanBackward0>)\n",
      "loss:  tensor(0.9877, grad_fn=<MeanBackward0>)\n",
      "loss:  tensor(0.9876, grad_fn=<MeanBackward0>)\n",
      "loss:  tensor(0.9876, grad_fn=<MeanBackward0>)\n",
      "loss:  tensor(0.9876, grad_fn=<MeanBackward0>)\n",
      "loss:  tensor(0.9876, grad_fn=<MeanBackward0>)\n",
      "loss:  tensor(0.9876, grad_fn=<MeanBackward0>)\n",
      "loss:  tensor(0.9876, grad_fn=<MeanBackward0>)\n",
      "loss:  tensor(0.9876, grad_fn=<MeanBackward0>)\n",
      "loss:  tensor(0.9876, grad_fn=<MeanBackward0>)\n",
      "loss:  tensor(0.9876, grad_fn=<MeanBackward0>)\n",
      "loss:  tensor(0.9876, grad_fn=<MeanBackward0>)\n",
      "loss:  tensor(0.9875, grad_fn=<MeanBackward0>)\n",
      "loss:  tensor(0.9875, grad_fn=<MeanBackward0>)\n",
      "loss:  tensor(0.9875, grad_fn=<MeanBackward0>)\n",
      "loss:  tensor(0.9875, grad_fn=<MeanBackward0>)\n",
      "loss:  tensor(0.9875, grad_fn=<MeanBackward0>)\n",
      "loss:  tensor(0.9875, grad_fn=<MeanBackward0>)\n",
      "loss:  tensor(0.9875, grad_fn=<MeanBackward0>)\n",
      "loss:  tensor(0.9875, grad_fn=<MeanBackward0>)\n",
      "loss:  tensor(0.9875, grad_fn=<MeanBackward0>)\n",
      "loss:  tensor(0.9875, grad_fn=<MeanBackward0>)\n",
      "loss:  tensor(0.9875, grad_fn=<MeanBackward0>)\n",
      "loss:  tensor(0.9875, grad_fn=<MeanBackward0>)\n",
      "loss:  tensor(0.9874, grad_fn=<MeanBackward0>)\n",
      "loss:  tensor(0.9874, grad_fn=<MeanBackward0>)\n",
      "loss:  tensor(0.9874, grad_fn=<MeanBackward0>)\n",
      "loss:  tensor(0.9874, grad_fn=<MeanBackward0>)\n",
      "loss:  tensor(0.9874, grad_fn=<MeanBackward0>)\n",
      "loss:  tensor(0.9874, grad_fn=<MeanBackward0>)\n",
      "loss:  tensor(0.9874, grad_fn=<MeanBackward0>)\n",
      "loss:  tensor(0.9874, grad_fn=<MeanBackward0>)\n",
      "loss:  tensor(0.9874, grad_fn=<MeanBackward0>)\n",
      "loss:  tensor(0.9874, grad_fn=<MeanBackward0>)\n",
      "loss:  tensor(0.9874, grad_fn=<MeanBackward0>)\n",
      "loss:  tensor(0.9874, grad_fn=<MeanBackward0>)\n",
      "loss:  tensor(0.9873, grad_fn=<MeanBackward0>)\n",
      "loss:  tensor(0.9873, grad_fn=<MeanBackward0>)\n",
      "loss:  tensor(0.9873, grad_fn=<MeanBackward0>)\n",
      "loss:  tensor(0.9873, grad_fn=<MeanBackward0>)\n",
      "loss:  tensor(0.9873, grad_fn=<MeanBackward0>)\n",
      "loss:  tensor(0.9873, grad_fn=<MeanBackward0>)\n",
      "loss:  tensor(0.9873, grad_fn=<MeanBackward0>)\n",
      "loss:  tensor(0.9873, grad_fn=<MeanBackward0>)\n",
      "loss:  tensor(0.9873, grad_fn=<MeanBackward0>)\n",
      "loss:  tensor(0.9873, grad_fn=<MeanBackward0>)\n",
      "loss:  tensor(0.9873, grad_fn=<MeanBackward0>)\n",
      "loss:  tensor(0.9873, grad_fn=<MeanBackward0>)\n",
      "loss:  tensor(0.9873, grad_fn=<MeanBackward0>)\n",
      "loss:  tensor(0.9873, grad_fn=<MeanBackward0>)\n",
      "loss:  tensor(0.9872, grad_fn=<MeanBackward0>)\n",
      "loss:  tensor(0.9872, grad_fn=<MeanBackward0>)\n",
      "loss:  tensor(0.9872, grad_fn=<MeanBackward0>)\n",
      "loss:  tensor(0.9872, grad_fn=<MeanBackward0>)\n",
      "loss:  tensor(0.9872, grad_fn=<MeanBackward0>)\n",
      "loss:  tensor(0.9872, grad_fn=<MeanBackward0>)\n",
      "loss:  tensor(0.9872, grad_fn=<MeanBackward0>)\n",
      "loss:  tensor(0.9872, grad_fn=<MeanBackward0>)\n",
      "loss:  tensor(0.9872, grad_fn=<MeanBackward0>)\n",
      "loss:  tensor(0.9872, grad_fn=<MeanBackward0>)\n",
      "loss:  tensor(0.9872, grad_fn=<MeanBackward0>)\n",
      "loss:  tensor(0.9872, grad_fn=<MeanBackward0>)\n",
      "loss:  tensor(0.9872, grad_fn=<MeanBackward0>)\n",
      "loss:  tensor(0.9872, grad_fn=<MeanBackward0>)\n",
      "loss:  tensor(0.9872, grad_fn=<MeanBackward0>)\n",
      "loss:  tensor(0.9871, grad_fn=<MeanBackward0>)\n",
      "loss:  tensor(0.9871, grad_fn=<MeanBackward0>)\n",
      "loss:  tensor(0.9871, grad_fn=<MeanBackward0>)\n",
      "loss:  tensor(0.9871, grad_fn=<MeanBackward0>)\n",
      "loss:  tensor(0.9871, grad_fn=<MeanBackward0>)\n",
      "loss:  tensor(0.9871, grad_fn=<MeanBackward0>)\n",
      "loss:  tensor(0.9871, grad_fn=<MeanBackward0>)\n",
      "loss:  tensor(0.9871, grad_fn=<MeanBackward0>)\n",
      "loss:  tensor(0.9871, grad_fn=<MeanBackward0>)\n",
      "loss:  tensor(0.9871, grad_fn=<MeanBackward0>)\n",
      "loss:  tensor(0.9871, grad_fn=<MeanBackward0>)\n",
      "loss:  tensor(0.9871, grad_fn=<MeanBackward0>)\n",
      "loss:  tensor(0.9871, grad_fn=<MeanBackward0>)\n",
      "loss:  tensor(0.9871, grad_fn=<MeanBackward0>)\n",
      "loss:  tensor(0.9871, grad_fn=<MeanBackward0>)\n",
      "loss:  tensor(0.9871, grad_fn=<MeanBackward0>)\n",
      "loss:  tensor(0.9871, grad_fn=<MeanBackward0>)\n",
      "loss:  tensor(0.9870, grad_fn=<MeanBackward0>)\n",
      "loss:  tensor(0.9870, grad_fn=<MeanBackward0>)\n",
      "loss:  tensor(0.9870, grad_fn=<MeanBackward0>)\n",
      "loss:  tensor(0.9870, grad_fn=<MeanBackward0>)\n",
      "loss:  tensor(0.9870, grad_fn=<MeanBackward0>)\n",
      "loss:  tensor(0.9870, grad_fn=<MeanBackward0>)\n",
      "loss:  tensor(0.9870, grad_fn=<MeanBackward0>)\n",
      "loss:  tensor(0.9870, grad_fn=<MeanBackward0>)\n",
      "loss:  tensor(0.9870, grad_fn=<MeanBackward0>)\n",
      "loss:  tensor(0.9870, grad_fn=<MeanBackward0>)\n",
      "loss:  tensor(0.9870, grad_fn=<MeanBackward0>)\n",
      "loss:  tensor(0.9870, grad_fn=<MeanBackward0>)\n",
      "loss:  tensor(0.9870, grad_fn=<MeanBackward0>)\n",
      "loss:  tensor(0.9870, grad_fn=<MeanBackward0>)\n",
      "loss:  tensor(0.9870, grad_fn=<MeanBackward0>)\n",
      "loss:  tensor(0.9870, grad_fn=<MeanBackward0>)\n",
      "loss:  tensor(0.9870, grad_fn=<MeanBackward0>)\n",
      "loss:  tensor(0.9870, grad_fn=<MeanBackward0>)\n",
      "loss:  tensor(0.9870, grad_fn=<MeanBackward0>)\n",
      "loss:  tensor(0.9869, grad_fn=<MeanBackward0>)\n",
      "loss:  tensor(0.9869, grad_fn=<MeanBackward0>)\n",
      "loss:  tensor(0.9869, grad_fn=<MeanBackward0>)\n",
      "loss:  tensor(0.9869, grad_fn=<MeanBackward0>)\n",
      "loss:  tensor(0.9869, grad_fn=<MeanBackward0>)\n",
      "loss:  tensor(0.9869, grad_fn=<MeanBackward0>)\n",
      "loss:  tensor(0.9869, grad_fn=<MeanBackward0>)\n",
      "loss:  tensor(0.9869, grad_fn=<MeanBackward0>)\n",
      "loss:  tensor(0.9869, grad_fn=<MeanBackward0>)\n",
      "loss:  tensor(0.9869, grad_fn=<MeanBackward0>)\n",
      "loss:  tensor(0.9869, grad_fn=<MeanBackward0>)\n",
      "loss:  tensor(0.9869, grad_fn=<MeanBackward0>)\n",
      "loss:  tensor(0.9869, grad_fn=<MeanBackward0>)\n",
      "loss:  tensor(0.9869, grad_fn=<MeanBackward0>)\n",
      "loss:  tensor(0.9869, grad_fn=<MeanBackward0>)\n",
      "loss:  tensor(0.9869, grad_fn=<MeanBackward0>)\n",
      "loss:  tensor(0.9869, grad_fn=<MeanBackward0>)\n",
      "loss:  tensor(0.9869, grad_fn=<MeanBackward0>)\n",
      "loss:  tensor(0.9869, grad_fn=<MeanBackward0>)\n",
      "loss:  tensor(0.9869, grad_fn=<MeanBackward0>)\n",
      "loss:  tensor(0.9869, grad_fn=<MeanBackward0>)\n",
      "loss:  tensor(0.9869, grad_fn=<MeanBackward0>)\n",
      "loss:  tensor(0.9868, grad_fn=<MeanBackward0>)\n",
      "loss:  tensor(0.9868, grad_fn=<MeanBackward0>)\n",
      "loss:  tensor(0.9868, grad_fn=<MeanBackward0>)\n",
      "loss:  tensor(0.9868, grad_fn=<MeanBackward0>)\n",
      "loss:  tensor(0.9868, grad_fn=<MeanBackward0>)\n",
      "loss:  tensor(0.9868, grad_fn=<MeanBackward0>)\n",
      "loss:  tensor(0.9868, grad_fn=<MeanBackward0>)\n",
      "loss:  tensor(0.9868, grad_fn=<MeanBackward0>)\n",
      "loss:  tensor(0.9868, grad_fn=<MeanBackward0>)\n",
      "loss:  tensor(0.9868, grad_fn=<MeanBackward0>)\n",
      "loss:  tensor(0.9868, grad_fn=<MeanBackward0>)\n",
      "loss:  tensor(0.9868, grad_fn=<MeanBackward0>)\n",
      "loss:  tensor(0.9868, grad_fn=<MeanBackward0>)\n",
      "loss:  tensor(0.9868, grad_fn=<MeanBackward0>)\n",
      "loss:  tensor(0.9868, grad_fn=<MeanBackward0>)\n",
      "loss:  tensor(0.9868, grad_fn=<MeanBackward0>)\n",
      "loss:  tensor(0.9868, grad_fn=<MeanBackward0>)\n",
      "loss:  tensor(0.9868, grad_fn=<MeanBackward0>)\n",
      "loss:  tensor(0.9868, grad_fn=<MeanBackward0>)\n",
      "loss:  tensor(0.9868, grad_fn=<MeanBackward0>)\n",
      "loss:  tensor(0.9868, grad_fn=<MeanBackward0>)\n",
      "loss:  tensor(0.9868, grad_fn=<MeanBackward0>)\n",
      "loss:  tensor(0.9868, grad_fn=<MeanBackward0>)\n",
      "loss:  tensor(0.9868, grad_fn=<MeanBackward0>)\n",
      "loss:  tensor(0.9868, grad_fn=<MeanBackward0>)\n",
      "loss:  tensor(0.9867, grad_fn=<MeanBackward0>)\n",
      "loss:  tensor(0.9867, grad_fn=<MeanBackward0>)\n",
      "loss:  tensor(0.9867, grad_fn=<MeanBackward0>)\n",
      "loss:  tensor(0.9867, grad_fn=<MeanBackward0>)\n",
      "loss:  tensor(0.9867, grad_fn=<MeanBackward0>)\n",
      "loss:  tensor(0.9867, grad_fn=<MeanBackward0>)\n",
      "loss:  tensor(0.9867, grad_fn=<MeanBackward0>)\n",
      "loss:  tensor(0.9867, grad_fn=<MeanBackward0>)\n",
      "loss:  tensor(0.9867, grad_fn=<MeanBackward0>)\n",
      "loss:  tensor(0.9867, grad_fn=<MeanBackward0>)\n",
      "loss:  tensor(0.9867, grad_fn=<MeanBackward0>)\n",
      "loss:  tensor(0.9867, grad_fn=<MeanBackward0>)\n",
      "loss:  tensor(0.9867, grad_fn=<MeanBackward0>)\n",
      "loss:  tensor(0.9867, grad_fn=<MeanBackward0>)\n",
      "loss:  tensor(0.9867, grad_fn=<MeanBackward0>)\n",
      "loss:  tensor(0.9867, grad_fn=<MeanBackward0>)\n",
      "loss:  tensor(0.9867, grad_fn=<MeanBackward0>)\n",
      "loss:  tensor(0.9867, grad_fn=<MeanBackward0>)\n",
      "loss:  tensor(0.9867, grad_fn=<MeanBackward0>)\n",
      "loss:  tensor(0.9867, grad_fn=<MeanBackward0>)\n",
      "loss:  tensor(0.9867, grad_fn=<MeanBackward0>)\n",
      "loss:  tensor(0.9867, grad_fn=<MeanBackward0>)\n"
     ]
    },
    {
     "name": "stdout",
     "output_type": "stream",
     "text": [
      "loss:  tensor(0.9867, grad_fn=<MeanBackward0>)\n",
      "loss:  tensor(0.9867, grad_fn=<MeanBackward0>)\n",
      "loss:  tensor(0.9867, grad_fn=<MeanBackward0>)\n",
      "loss:  tensor(0.9867, grad_fn=<MeanBackward0>)\n",
      "loss:  tensor(0.9867, grad_fn=<MeanBackward0>)\n",
      "loss:  tensor(0.9867, grad_fn=<MeanBackward0>)\n",
      "loss:  tensor(0.9867, grad_fn=<MeanBackward0>)\n",
      "loss:  tensor(0.9867, grad_fn=<MeanBackward0>)\n",
      "loss:  tensor(0.9866, grad_fn=<MeanBackward0>)\n",
      "loss:  tensor(0.9866, grad_fn=<MeanBackward0>)\n",
      "loss:  tensor(0.9866, grad_fn=<MeanBackward0>)\n",
      "loss:  tensor(0.9866, grad_fn=<MeanBackward0>)\n",
      "loss:  tensor(0.9866, grad_fn=<MeanBackward0>)\n",
      "loss:  tensor(0.9866, grad_fn=<MeanBackward0>)\n",
      "loss:  tensor(0.9866, grad_fn=<MeanBackward0>)\n",
      "loss:  tensor(0.9866, grad_fn=<MeanBackward0>)\n",
      "loss:  tensor(0.9866, grad_fn=<MeanBackward0>)\n",
      "loss:  tensor(0.9866, grad_fn=<MeanBackward0>)\n",
      "loss:  tensor(0.9866, grad_fn=<MeanBackward0>)\n",
      "loss:  tensor(0.9866, grad_fn=<MeanBackward0>)\n",
      "loss:  tensor(0.9866, grad_fn=<MeanBackward0>)\n",
      "loss:  tensor(0.9866, grad_fn=<MeanBackward0>)\n",
      "loss:  tensor(0.9866, grad_fn=<MeanBackward0>)\n",
      "loss:  tensor(0.9866, grad_fn=<MeanBackward0>)\n",
      "loss:  tensor(0.9866, grad_fn=<MeanBackward0>)\n",
      "loss:  tensor(0.9866, grad_fn=<MeanBackward0>)\n",
      "loss:  tensor(0.9866, grad_fn=<MeanBackward0>)\n",
      "loss:  tensor(0.9866, grad_fn=<MeanBackward0>)\n",
      "loss:  tensor(0.9866, grad_fn=<MeanBackward0>)\n",
      "loss:  tensor(0.9866, grad_fn=<MeanBackward0>)\n",
      "loss:  tensor(0.9866, grad_fn=<MeanBackward0>)\n",
      "loss:  tensor(0.9866, grad_fn=<MeanBackward0>)\n",
      "loss:  tensor(0.9866, grad_fn=<MeanBackward0>)\n",
      "loss:  tensor(0.9866, grad_fn=<MeanBackward0>)\n",
      "loss:  tensor(0.9866, grad_fn=<MeanBackward0>)\n",
      "loss:  tensor(0.9866, grad_fn=<MeanBackward0>)\n",
      "loss:  tensor(0.9866, grad_fn=<MeanBackward0>)\n",
      "loss:  tensor(0.9866, grad_fn=<MeanBackward0>)\n",
      "loss:  tensor(0.9866, grad_fn=<MeanBackward0>)\n",
      "loss:  tensor(0.9866, grad_fn=<MeanBackward0>)\n",
      "loss:  tensor(0.9866, grad_fn=<MeanBackward0>)\n",
      "loss:  tensor(0.9866, grad_fn=<MeanBackward0>)\n",
      "loss:  tensor(0.9866, grad_fn=<MeanBackward0>)\n",
      "loss:  tensor(0.9866, grad_fn=<MeanBackward0>)\n",
      "loss:  tensor(0.9866, grad_fn=<MeanBackward0>)\n",
      "loss:  tensor(0.9866, grad_fn=<MeanBackward0>)\n",
      "loss:  tensor(0.9865, grad_fn=<MeanBackward0>)\n",
      "loss:  tensor(0.9865, grad_fn=<MeanBackward0>)\n",
      "loss:  tensor(0.9865, grad_fn=<MeanBackward0>)\n",
      "loss:  tensor(0.9865, grad_fn=<MeanBackward0>)\n",
      "loss:  tensor(0.9865, grad_fn=<MeanBackward0>)\n",
      "loss:  tensor(0.9865, grad_fn=<MeanBackward0>)\n",
      "loss:  tensor(0.9865, grad_fn=<MeanBackward0>)\n",
      "loss:  tensor(0.9865, grad_fn=<MeanBackward0>)\n",
      "loss:  tensor(0.9865, grad_fn=<MeanBackward0>)\n",
      "loss:  tensor(0.9865, grad_fn=<MeanBackward0>)\n",
      "loss:  tensor(0.9865, grad_fn=<MeanBackward0>)\n",
      "loss:  tensor(0.9865, grad_fn=<MeanBackward0>)\n",
      "loss:  tensor(0.9865, grad_fn=<MeanBackward0>)\n",
      "loss:  tensor(0.9865, grad_fn=<MeanBackward0>)\n",
      "loss:  tensor(0.9865, grad_fn=<MeanBackward0>)\n",
      "loss:  tensor(0.9865, grad_fn=<MeanBackward0>)\n",
      "loss:  tensor(0.9865, grad_fn=<MeanBackward0>)\n",
      "loss:  tensor(0.9865, grad_fn=<MeanBackward0>)\n",
      "loss:  tensor(0.9865, grad_fn=<MeanBackward0>)\n",
      "loss:  tensor(0.9865, grad_fn=<MeanBackward0>)\n",
      "loss:  tensor(0.9865, grad_fn=<MeanBackward0>)\n",
      "loss:  tensor(0.9865, grad_fn=<MeanBackward0>)\n",
      "loss:  tensor(0.9865, grad_fn=<MeanBackward0>)\n",
      "loss:  tensor(0.9865, grad_fn=<MeanBackward0>)\n",
      "loss:  tensor(0.9865, grad_fn=<MeanBackward0>)\n",
      "loss:  tensor(0.9865, grad_fn=<MeanBackward0>)\n",
      "loss:  tensor(0.9865, grad_fn=<MeanBackward0>)\n",
      "loss:  tensor(0.9865, grad_fn=<MeanBackward0>)\n",
      "loss:  tensor(0.9865, grad_fn=<MeanBackward0>)\n",
      "loss:  tensor(0.9865, grad_fn=<MeanBackward0>)\n",
      "loss:  tensor(0.9865, grad_fn=<MeanBackward0>)\n",
      "loss:  tensor(0.9865, grad_fn=<MeanBackward0>)\n",
      "loss:  tensor(0.9865, grad_fn=<MeanBackward0>)\n",
      "loss:  tensor(0.9865, grad_fn=<MeanBackward0>)\n",
      "loss:  tensor(0.9865, grad_fn=<MeanBackward0>)\n",
      "loss:  tensor(0.9865, grad_fn=<MeanBackward0>)\n",
      "loss:  tensor(0.9865, grad_fn=<MeanBackward0>)\n",
      "loss:  tensor(0.9865, grad_fn=<MeanBackward0>)\n",
      "loss:  tensor(0.9865, grad_fn=<MeanBackward0>)\n",
      "loss:  tensor(0.9865, grad_fn=<MeanBackward0>)\n",
      "loss:  tensor(0.9865, grad_fn=<MeanBackward0>)\n",
      "loss:  tensor(0.9865, grad_fn=<MeanBackward0>)\n",
      "loss:  tensor(0.9865, grad_fn=<MeanBackward0>)\n",
      "loss:  tensor(0.9865, grad_fn=<MeanBackward0>)\n",
      "loss:  tensor(0.9865, grad_fn=<MeanBackward0>)\n",
      "loss:  tensor(0.9865, grad_fn=<MeanBackward0>)\n",
      "loss:  tensor(0.9865, grad_fn=<MeanBackward0>)\n",
      "loss:  tensor(0.9865, grad_fn=<MeanBackward0>)\n",
      "loss:  tensor(0.9864, grad_fn=<MeanBackward0>)\n",
      "loss:  tensor(0.9864, grad_fn=<MeanBackward0>)\n",
      "loss:  tensor(0.9864, grad_fn=<MeanBackward0>)\n",
      "loss:  tensor(0.9864, grad_fn=<MeanBackward0>)\n",
      "loss:  tensor(0.9864, grad_fn=<MeanBackward0>)\n",
      "loss:  tensor(0.9864, grad_fn=<MeanBackward0>)\n",
      "loss:  tensor(0.9864, grad_fn=<MeanBackward0>)\n",
      "loss:  tensor(0.9864, grad_fn=<MeanBackward0>)\n",
      "loss:  tensor(0.9864, grad_fn=<MeanBackward0>)\n",
      "loss:  tensor(0.9864, grad_fn=<MeanBackward0>)\n",
      "loss:  tensor(0.9864, grad_fn=<MeanBackward0>)\n",
      "loss:  tensor(0.9864, grad_fn=<MeanBackward0>)\n",
      "loss:  tensor(0.9864, grad_fn=<MeanBackward0>)\n",
      "loss:  tensor(0.9864, grad_fn=<MeanBackward0>)\n",
      "loss:  tensor(0.9864, grad_fn=<MeanBackward0>)\n",
      "loss:  tensor(0.9864, grad_fn=<MeanBackward0>)\n",
      "loss:  tensor(0.9864, grad_fn=<MeanBackward0>)\n",
      "loss:  tensor(0.9864, grad_fn=<MeanBackward0>)\n",
      "loss:  tensor(0.9864, grad_fn=<MeanBackward0>)\n",
      "loss:  tensor(0.9864, grad_fn=<MeanBackward0>)\n",
      "loss:  tensor(0.9864, grad_fn=<MeanBackward0>)\n",
      "loss:  tensor(0.9864, grad_fn=<MeanBackward0>)\n",
      "loss:  tensor(0.9864, grad_fn=<MeanBackward0>)\n",
      "loss:  tensor(0.9864, grad_fn=<MeanBackward0>)\n",
      "loss:  tensor(0.9864, grad_fn=<MeanBackward0>)\n",
      "loss:  tensor(0.9864, grad_fn=<MeanBackward0>)\n",
      "loss:  tensor(0.9864, grad_fn=<MeanBackward0>)\n",
      "loss:  tensor(0.9864, grad_fn=<MeanBackward0>)\n",
      "loss:  tensor(0.9864, grad_fn=<MeanBackward0>)\n",
      "loss:  tensor(0.9864, grad_fn=<MeanBackward0>)\n",
      "loss:  tensor(0.9864, grad_fn=<MeanBackward0>)\n",
      "loss:  tensor(0.9864, grad_fn=<MeanBackward0>)\n",
      "loss:  tensor(0.9864, grad_fn=<MeanBackward0>)\n",
      "loss:  tensor(0.9864, grad_fn=<MeanBackward0>)\n",
      "loss:  tensor(0.9864, grad_fn=<MeanBackward0>)\n",
      "loss:  tensor(0.9864, grad_fn=<MeanBackward0>)\n",
      "loss:  tensor(0.9864, grad_fn=<MeanBackward0>)\n",
      "loss:  tensor(0.9864, grad_fn=<MeanBackward0>)\n",
      "loss:  tensor(0.9864, grad_fn=<MeanBackward0>)\n",
      "loss:  tensor(0.9864, grad_fn=<MeanBackward0>)\n",
      "loss:  tensor(0.9864, grad_fn=<MeanBackward0>)\n",
      "loss:  tensor(0.9864, grad_fn=<MeanBackward0>)\n",
      "loss:  tensor(0.9864, grad_fn=<MeanBackward0>)\n",
      "loss:  tensor(0.9864, grad_fn=<MeanBackward0>)\n",
      "loss:  tensor(0.9864, grad_fn=<MeanBackward0>)\n",
      "loss:  tensor(0.9864, grad_fn=<MeanBackward0>)\n",
      "loss:  tensor(0.9864, grad_fn=<MeanBackward0>)\n",
      "loss:  tensor(0.9864, grad_fn=<MeanBackward0>)\n",
      "loss:  tensor(0.9864, grad_fn=<MeanBackward0>)\n",
      "loss:  tensor(0.9864, grad_fn=<MeanBackward0>)\n",
      "loss:  tensor(0.9864, grad_fn=<MeanBackward0>)\n",
      "loss:  tensor(0.9864, grad_fn=<MeanBackward0>)\n",
      "loss:  tensor(0.9864, grad_fn=<MeanBackward0>)\n",
      "loss:  tensor(0.9864, grad_fn=<MeanBackward0>)\n",
      "loss:  tensor(0.9864, grad_fn=<MeanBackward0>)\n",
      "loss:  tensor(0.9864, grad_fn=<MeanBackward0>)\n",
      "loss:  tensor(0.9864, grad_fn=<MeanBackward0>)\n",
      "loss:  tensor(0.9864, grad_fn=<MeanBackward0>)\n",
      "loss:  tensor(0.9864, grad_fn=<MeanBackward0>)\n",
      "loss:  tensor(0.9864, grad_fn=<MeanBackward0>)\n",
      "loss:  tensor(0.9864, grad_fn=<MeanBackward0>)\n",
      "loss:  tensor(0.9864, grad_fn=<MeanBackward0>)\n",
      "loss:  tensor(0.9864, grad_fn=<MeanBackward0>)\n",
      "loss:  tensor(0.9864, grad_fn=<MeanBackward0>)\n",
      "loss:  tensor(0.9864, grad_fn=<MeanBackward0>)\n",
      "loss:  tensor(0.9864, grad_fn=<MeanBackward0>)\n",
      "loss:  tensor(0.9864, grad_fn=<MeanBackward0>)\n",
      "loss:  tensor(0.9864, grad_fn=<MeanBackward0>)\n",
      "loss:  tensor(0.9863, grad_fn=<MeanBackward0>)\n",
      "loss:  tensor(0.9863, grad_fn=<MeanBackward0>)\n",
      "loss:  tensor(0.9863, grad_fn=<MeanBackward0>)\n",
      "loss:  tensor(0.9863, grad_fn=<MeanBackward0>)\n",
      "loss:  tensor(0.9863, grad_fn=<MeanBackward0>)\n",
      "loss:  tensor(0.9863, grad_fn=<MeanBackward0>)\n",
      "loss:  tensor(0.9863, grad_fn=<MeanBackward0>)\n",
      "loss:  tensor(0.9863, grad_fn=<MeanBackward0>)\n",
      "loss:  tensor(0.9863, grad_fn=<MeanBackward0>)\n",
      "loss:  tensor(0.9863, grad_fn=<MeanBackward0>)\n",
      "loss:  tensor(0.9863, grad_fn=<MeanBackward0>)\n",
      "loss:  tensor(0.9863, grad_fn=<MeanBackward0>)\n"
     ]
    },
    {
     "name": "stdout",
     "output_type": "stream",
     "text": [
      "loss:  tensor(0.9863, grad_fn=<MeanBackward0>)\n",
      "loss:  tensor(0.9863, grad_fn=<MeanBackward0>)\n",
      "loss:  tensor(0.9863, grad_fn=<MeanBackward0>)\n",
      "loss:  tensor(0.9863, grad_fn=<MeanBackward0>)\n",
      "loss:  tensor(0.9863, grad_fn=<MeanBackward0>)\n",
      "loss:  tensor(0.9863, grad_fn=<MeanBackward0>)\n",
      "loss:  tensor(0.9863, grad_fn=<MeanBackward0>)\n",
      "loss:  tensor(0.9863, grad_fn=<MeanBackward0>)\n",
      "loss:  tensor(0.9863, grad_fn=<MeanBackward0>)\n",
      "loss:  tensor(0.9863, grad_fn=<MeanBackward0>)\n",
      "loss:  tensor(0.9863, grad_fn=<MeanBackward0>)\n",
      "loss:  tensor(0.9863, grad_fn=<MeanBackward0>)\n",
      "loss:  tensor(0.9863, grad_fn=<MeanBackward0>)\n",
      "loss:  tensor(0.9863, grad_fn=<MeanBackward0>)\n",
      "loss:  tensor(0.9863, grad_fn=<MeanBackward0>)\n",
      "loss:  tensor(0.9863, grad_fn=<MeanBackward0>)\n",
      "loss:  tensor(0.9863, grad_fn=<MeanBackward0>)\n",
      "loss:  tensor(0.9863, grad_fn=<MeanBackward0>)\n",
      "loss:  tensor(0.9863, grad_fn=<MeanBackward0>)\n",
      "loss:  tensor(0.9863, grad_fn=<MeanBackward0>)\n",
      "loss:  tensor(0.9863, grad_fn=<MeanBackward0>)\n",
      "loss:  tensor(0.9863, grad_fn=<MeanBackward0>)\n",
      "loss:  tensor(0.9863, grad_fn=<MeanBackward0>)\n",
      "loss:  tensor(0.9863, grad_fn=<MeanBackward0>)\n",
      "loss:  tensor(0.9863, grad_fn=<MeanBackward0>)\n",
      "loss:  tensor(0.9863, grad_fn=<MeanBackward0>)\n",
      "loss:  tensor(0.9863, grad_fn=<MeanBackward0>)\n",
      "loss:  tensor(0.9863, grad_fn=<MeanBackward0>)\n",
      "loss:  tensor(0.9863, grad_fn=<MeanBackward0>)\n",
      "loss:  tensor(0.9863, grad_fn=<MeanBackward0>)\n",
      "loss:  tensor(0.9863, grad_fn=<MeanBackward0>)\n",
      "loss:  tensor(0.9863, grad_fn=<MeanBackward0>)\n",
      "loss:  tensor(0.9863, grad_fn=<MeanBackward0>)\n",
      "loss:  tensor(0.9863, grad_fn=<MeanBackward0>)\n",
      "loss:  tensor(0.9863, grad_fn=<MeanBackward0>)\n",
      "loss:  tensor(0.9863, grad_fn=<MeanBackward0>)\n",
      "loss:  tensor(0.9863, grad_fn=<MeanBackward0>)\n",
      "loss:  tensor(0.9863, grad_fn=<MeanBackward0>)\n",
      "loss:  tensor(0.9863, grad_fn=<MeanBackward0>)\n",
      "loss:  tensor(0.9863, grad_fn=<MeanBackward0>)\n",
      "loss:  tensor(0.9863, grad_fn=<MeanBackward0>)\n",
      "loss:  tensor(0.9863, grad_fn=<MeanBackward0>)\n",
      "loss:  tensor(0.9863, grad_fn=<MeanBackward0>)\n",
      "loss:  tensor(0.9863, grad_fn=<MeanBackward0>)\n",
      "loss:  tensor(0.9863, grad_fn=<MeanBackward0>)\n",
      "loss:  tensor(0.9863, grad_fn=<MeanBackward0>)\n",
      "loss:  tensor(0.9863, grad_fn=<MeanBackward0>)\n",
      "loss:  tensor(0.9863, grad_fn=<MeanBackward0>)\n",
      "loss:  tensor(0.9863, grad_fn=<MeanBackward0>)\n",
      "loss:  tensor(0.9863, grad_fn=<MeanBackward0>)\n",
      "loss:  tensor(0.9863, grad_fn=<MeanBackward0>)\n",
      "loss:  tensor(0.9863, grad_fn=<MeanBackward0>)\n",
      "loss:  tensor(0.9863, grad_fn=<MeanBackward0>)\n",
      "loss:  tensor(0.9863, grad_fn=<MeanBackward0>)\n",
      "loss:  tensor(0.9863, grad_fn=<MeanBackward0>)\n",
      "loss:  tensor(0.9863, grad_fn=<MeanBackward0>)\n",
      "loss:  tensor(0.9863, grad_fn=<MeanBackward0>)\n",
      "loss:  tensor(0.9863, grad_fn=<MeanBackward0>)\n",
      "loss:  tensor(0.9863, grad_fn=<MeanBackward0>)\n",
      "loss:  tensor(0.9863, grad_fn=<MeanBackward0>)\n",
      "loss:  tensor(0.9863, grad_fn=<MeanBackward0>)\n",
      "loss:  tensor(0.9863, grad_fn=<MeanBackward0>)\n",
      "loss:  tensor(0.9863, grad_fn=<MeanBackward0>)\n",
      "loss:  tensor(0.9863, grad_fn=<MeanBackward0>)\n",
      "loss:  tensor(0.9863, grad_fn=<MeanBackward0>)\n",
      "loss:  tensor(0.9863, grad_fn=<MeanBackward0>)\n",
      "loss:  tensor(0.9863, grad_fn=<MeanBackward0>)\n",
      "loss:  tensor(0.9863, grad_fn=<MeanBackward0>)\n",
      "loss:  tensor(0.9863, grad_fn=<MeanBackward0>)\n",
      "loss:  tensor(0.9863, grad_fn=<MeanBackward0>)\n",
      "loss:  tensor(0.9863, grad_fn=<MeanBackward0>)\n",
      "loss:  tensor(0.9863, grad_fn=<MeanBackward0>)\n",
      "loss:  tensor(0.9863, grad_fn=<MeanBackward0>)\n",
      "loss:  tensor(0.9863, grad_fn=<MeanBackward0>)\n",
      "loss:  tensor(0.9863, grad_fn=<MeanBackward0>)\n",
      "loss:  tensor(0.9863, grad_fn=<MeanBackward0>)\n",
      "loss:  tensor(0.9863, grad_fn=<MeanBackward0>)\n",
      "loss:  tensor(0.9863, grad_fn=<MeanBackward0>)\n"
     ]
    }
   ],
   "source": [
    "train_n_epochs(model, criterion, optimizer, train_val_samples, 600)"
   ]
  },
  {
   "cell_type": "code",
   "execution_count": 138,
   "metadata": {},
   "outputs": [],
   "source": [
    "train_samples = train_val_samples.copy()\n",
    "train_data = flatten_batch_of_samples(train_samples)\n",
    "target = torch.FloatTensor(list(map(lambda sample: sample.target, train_samples)))\n",
    "target_pred = model(train_data)"
   ]
  },
  {
   "cell_type": "code",
   "execution_count": 142,
   "metadata": {},
   "outputs": [
    {
     "data": {
      "text/plain": [
       "array([ 0.06207554,  0.0440472 ,  0.1828651 , ..., -0.0707881 ,\n",
       "        0.04957776, -0.01162024], dtype=float32)"
      ]
     },
     "execution_count": 142,
     "metadata": {},
     "output_type": "execute_result"
    }
   ],
   "source": []
  },
  {
   "cell_type": "code",
   "execution_count": 145,
   "metadata": {},
   "outputs": [
    {
     "data": {
      "text/plain": [
       "[<matplotlib.lines.Line2D at 0x27ec4b04390>]"
      ]
     },
     "execution_count": 145,
     "metadata": {},
     "output_type": "execute_result"
    },
    {
     "data": {
      "image/png": "[encoded data removed]",
      "text/plain": [
       "<Figure size 432x288 with 1 Axes>"
      ]
     },
     "metadata": {
      "needs_background": "light"
     },
     "output_type": "display_data"
    },
    {
     "data": {
      "image/png": "[encoded data removed]",
      "text/plain": [
       "<Figure size 432x288 with 1 Axes>"
      ]
     },
     "metadata": {
      "needs_background": "light"
     },
     "output_type": "display_data"
    }
   ],
   "source": [
    "plt.figure()\n",
    "plt.plot(target_pred.detach().numpy())\n",
    "plt.figure()\n",
    "plt.plot(target.detach().numpy())"
   ]
  },
  {
   "cell_type": "code",
   "execution_count": 172,
   "metadata": {},
   "outputs": [
    {
     "ename": "AttributeError",
     "evalue": "'list' object has no attribute 'size'",
     "output_type": "error",
     "traceback": [
      "\u001b[1;31m---------------------------------------------------------------------------\u001b[0m",
      "\u001b[1;31mAttributeError\u001b[0m                            Traceback (most recent call last)",
      "\u001b[1;32m<ipython-input-172-37e2bd02d99b>\u001b[0m in \u001b[0;36m<module>\u001b[1;34m\u001b[0m\n\u001b[1;32m----> 1\u001b[1;33m \u001b[0mloss\u001b[0m \u001b[1;33m=\u001b[0m \u001b[0mcriterion\u001b[0m\u001b[1;33m(\u001b[0m\u001b[0mlist\u001b[0m\u001b[1;33m(\u001b[0m\u001b[0mmap\u001b[0m\u001b[1;33m(\u001b[0m\u001b[1;32mlambda\u001b[0m \u001b[0msample\u001b[0m\u001b[1;33m:\u001b[0m \u001b[0msample\u001b[0m\u001b[1;33m.\u001b[0m\u001b[0mtarget\u001b[0m\u001b[1;33m,\u001b[0m \u001b[0mtrain_val_samples\u001b[0m\u001b[1;33m)\u001b[0m\u001b[1;33m)\u001b[0m\u001b[1;33m,\u001b[0m \u001b[0my_pred\u001b[0m\u001b[1;33m)\u001b[0m\u001b[1;33m\u001b[0m\u001b[1;33m\u001b[0m\u001b[0m\n\u001b[0m",
      "\u001b[1;32mc:\\python36\\lib\\site-packages\\torch\\nn\\modules\\module.py\u001b[0m in \u001b[0;36m__call__\u001b[1;34m(self, *input, **kwargs)\u001b[0m\n\u001b[0;32m    491\u001b[0m             \u001b[0mresult\u001b[0m \u001b[1;33m=\u001b[0m \u001b[0mself\u001b[0m\u001b[1;33m.\u001b[0m\u001b[0m_slow_forward\u001b[0m\u001b[1;33m(\u001b[0m\u001b[1;33m*\u001b[0m\u001b[0minput\u001b[0m\u001b[1;33m,\u001b[0m \u001b[1;33m**\u001b[0m\u001b[0mkwargs\u001b[0m\u001b[1;33m)\u001b[0m\u001b[1;33m\u001b[0m\u001b[1;33m\u001b[0m\u001b[0m\n\u001b[0;32m    492\u001b[0m         \u001b[1;32melse\u001b[0m\u001b[1;33m:\u001b[0m\u001b[1;33m\u001b[0m\u001b[1;33m\u001b[0m\u001b[0m\n\u001b[1;32m--> 493\u001b[1;33m             \u001b[0mresult\u001b[0m \u001b[1;33m=\u001b[0m \u001b[0mself\u001b[0m\u001b[1;33m.\u001b[0m\u001b[0mforward\u001b[0m\u001b[1;33m(\u001b[0m\u001b[1;33m*\u001b[0m\u001b[0minput\u001b[0m\u001b[1;33m,\u001b[0m \u001b[1;33m**\u001b[0m\u001b[0mkwargs\u001b[0m\u001b[1;33m)\u001b[0m\u001b[1;33m\u001b[0m\u001b[1;33m\u001b[0m\u001b[0m\n\u001b[0m\u001b[0;32m    494\u001b[0m         \u001b[1;32mfor\u001b[0m \u001b[0mhook\u001b[0m \u001b[1;32min\u001b[0m \u001b[0mself\u001b[0m\u001b[1;33m.\u001b[0m\u001b[0m_forward_hooks\u001b[0m\u001b[1;33m.\u001b[0m\u001b[0mvalues\u001b[0m\u001b[1;33m(\u001b[0m\u001b[1;33m)\u001b[0m\u001b[1;33m:\u001b[0m\u001b[1;33m\u001b[0m\u001b[1;33m\u001b[0m\u001b[0m\n\u001b[0;32m    495\u001b[0m             \u001b[0mhook_result\u001b[0m \u001b[1;33m=\u001b[0m \u001b[0mhook\u001b[0m\u001b[1;33m(\u001b[0m\u001b[0mself\u001b[0m\u001b[1;33m,\u001b[0m \u001b[0minput\u001b[0m\u001b[1;33m,\u001b[0m \u001b[0mresult\u001b[0m\u001b[1;33m)\u001b[0m\u001b[1;33m\u001b[0m\u001b[1;33m\u001b[0m\u001b[0m\n",
      "\u001b[1;32mc:\\python36\\lib\\site-packages\\torch\\nn\\modules\\loss.py\u001b[0m in \u001b[0;36mforward\u001b[1;34m(self, input, target)\u001b[0m\n\u001b[0;32m    441\u001b[0m     \u001b[1;33m@\u001b[0m\u001b[0mweak_script_method\u001b[0m\u001b[1;33m\u001b[0m\u001b[1;33m\u001b[0m\u001b[0m\n\u001b[0;32m    442\u001b[0m     \u001b[1;32mdef\u001b[0m \u001b[0mforward\u001b[0m\u001b[1;33m(\u001b[0m\u001b[0mself\u001b[0m\u001b[1;33m,\u001b[0m \u001b[0minput\u001b[0m\u001b[1;33m,\u001b[0m \u001b[0mtarget\u001b[0m\u001b[1;33m)\u001b[0m\u001b[1;33m:\u001b[0m\u001b[1;33m\u001b[0m\u001b[1;33m\u001b[0m\u001b[0m\n\u001b[1;32m--> 443\u001b[1;33m         \u001b[1;32mreturn\u001b[0m \u001b[0mF\u001b[0m\u001b[1;33m.\u001b[0m\u001b[0mmse_loss\u001b[0m\u001b[1;33m(\u001b[0m\u001b[0minput\u001b[0m\u001b[1;33m,\u001b[0m \u001b[0mtarget\u001b[0m\u001b[1;33m,\u001b[0m \u001b[0mreduction\u001b[0m\u001b[1;33m=\u001b[0m\u001b[0mself\u001b[0m\u001b[1;33m.\u001b[0m\u001b[0mreduction\u001b[0m\u001b[1;33m)\u001b[0m\u001b[1;33m\u001b[0m\u001b[1;33m\u001b[0m\u001b[0m\n\u001b[0m\u001b[0;32m    444\u001b[0m \u001b[1;33m\u001b[0m\u001b[0m\n\u001b[0;32m    445\u001b[0m \u001b[1;33m\u001b[0m\u001b[0m\n",
      "\u001b[1;32mc:\\python36\\lib\\site-packages\\torch\\nn\\functional.py\u001b[0m in \u001b[0;36mmse_loss\u001b[1;34m(input, target, size_average, reduce, reduction)\u001b[0m\n\u001b[0;32m   2242\u001b[0m     \u001b[0mSee\u001b[0m \u001b[1;33m:\u001b[0m\u001b[1;32mclass\u001b[0m\u001b[1;33m:\u001b[0m\u001b[0;31m`\u001b[0m\u001b[1;33m~\u001b[0m\u001b[0mtorch\u001b[0m\u001b[1;33m.\u001b[0m\u001b[0mnn\u001b[0m\u001b[1;33m.\u001b[0m\u001b[0mMSELoss\u001b[0m\u001b[0;31m`\u001b[0m \u001b[1;32mfor\u001b[0m \u001b[0mdetails\u001b[0m\u001b[1;33m.\u001b[0m\u001b[1;33m\u001b[0m\u001b[1;33m\u001b[0m\u001b[0m\n\u001b[0;32m   2243\u001b[0m     \"\"\"\n\u001b[1;32m-> 2244\u001b[1;33m     \u001b[1;32mif\u001b[0m \u001b[1;32mnot\u001b[0m \u001b[1;33m(\u001b[0m\u001b[0mtarget\u001b[0m\u001b[1;33m.\u001b[0m\u001b[0msize\u001b[0m\u001b[1;33m(\u001b[0m\u001b[1;33m)\u001b[0m \u001b[1;33m==\u001b[0m \u001b[0minput\u001b[0m\u001b[1;33m.\u001b[0m\u001b[0msize\u001b[0m\u001b[1;33m(\u001b[0m\u001b[1;33m)\u001b[0m\u001b[1;33m)\u001b[0m\u001b[1;33m:\u001b[0m\u001b[1;33m\u001b[0m\u001b[1;33m\u001b[0m\u001b[0m\n\u001b[0m\u001b[0;32m   2245\u001b[0m         warnings.warn(\"Using a target size ({}) that is different to the input size ({}). \"\n\u001b[0;32m   2246\u001b[0m                       \u001b[1;34m\"This will likely lead to incorrect results due to broadcasting. \"\u001b[0m\u001b[1;33m\u001b[0m\u001b[1;33m\u001b[0m\u001b[0m\n",
      "\u001b[1;31mAttributeError\u001b[0m: 'list' object has no attribute 'size'"
     ]
    }
   ],
   "source": [
    "loss = criterion(list(map(lambda sample: sample.target, train_val_samples)), y_pred)"
   ]
  }
 ],
 "metadata": {
  "kernelspec": {
   "display_name": "Python 3",
   "language": "python",
   "name": "python3"
  },
  "language_info": {
   "codemirror_mode": {
    "name": "ipython",
    "version": 3
   },
   "file_extension": ".py",
   "mimetype": "text/x-python",
   "name": "python",
   "nbconvert_exporter": "python",
   "pygments_lexer": "ipython3",
   "version": "3.6.8"
  }
 },
 "nbformat": 4,
 "nbformat_minor": 2
}
