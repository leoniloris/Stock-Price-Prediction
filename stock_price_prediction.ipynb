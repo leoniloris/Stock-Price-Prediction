{
 "cells": [
  {
   "cell_type": "markdown",
   "metadata": {},
   "source": [
    "# Stock Price Prediction "
   ]
  },
  {
   "cell_type": "code",
   "execution_count": 100,
   "metadata": {},
   "outputs": [
    {
     "ename": "SyntaxError",
     "evalue": "invalid syntax (<ipython-input-100-9a58aa2f05fd>, line 1)",
     "output_type": "error",
     "traceback": [
      "\u001b[1;36m  File \u001b[1;32m\"<ipython-input-100-9a58aa2f05fd>\"\u001b[1;36m, line \u001b[1;32m1\u001b[0m\n\u001b[1;33m    (solving the wrong problem!) MARCOS FETURES\u001b[0m\n\u001b[1;37m               ^\u001b[0m\n\u001b[1;31mSyntaxError\u001b[0m\u001b[1;31m:\u001b[0m invalid syntax\n"
     ]
    }
   ],
   "source": [
    "(solving the wrong problem!) MARCOS FETURES"
   ]
  },
  {
   "cell_type": "markdown",
   "metadata": {
    "heading_collapsed": true
   },
   "source": [
    "# I) Description of the problem"
   ]
  },
  {
   "cell_type": "markdown",
   "metadata": {
    "heading_collapsed": true,
    "hidden": true
   },
   "source": [
    "### On the problem.\n",
    "\n",
    "* The problem of stock prediction concerns of being able to forecast a *Weakly Non stationary Time Series* so one can **sell** an active at a higher **Ask Price** that is was it's **Bid price** (buying at a smaller price than it was previously sold).\n",
    "\n",
    "\n",
    "### On the properties of the data.\n",
    "\n",
    "* Stocks, ETF's, hedge funds, can be modeled instantaneously as two Weakly Non stationary Time Series, one for *bid* prices and one for *ask* prices. By weakly Non stationary Time Series ($X(t)$), it is meant:\n",
    "\n",
    "<center>First momentum invariance.</center>\n",
    "$$E[X(t)] = E[X(t + \\epsilon)]$$ <br/>\n",
    "\n",
    "<center>Second momentum invariance.</center>\n",
    "$$C(X(t)) = C(X(t + \\alpha)) = E[(X(t) - E[X(t)])(X(t + \\epsilon) - E[X(t + \\epsilon)])]$$ <br/>\n",
    "<center>Bounded energy.</center>\n",
    "$$E[|X(t)|^2] < \\infty $$ <br/>\n",
    "\n",
    "\n",
    "\n",
    "\n",
    "* So, one should interpret this data as not predictable for longer distances but, among several, one can depicts a few techniques to be able to predict those series. Namely:\n",
    "\n",
    "    - Short term predictions: It transforms a non-stationary series in a locally stationary series. Thus, predictable.\n",
    "    - Using the first order derivative ($r(t) = (x(t) - x(t - 1))$): It erases the 'memory' of a non-stationary series. This is also called **RETURNS** of a financial time series.\n",
    "\n",
    "\n",
    "### On the financial data.\n",
    "\n",
    "* **Bid's** and **Ask's** are updated at every new *order* in the *order book*, this is called *tick*. For visual chartists, analyzing this *tick* data is too cumbersome, so one of **many** ways of visualizing it, is in the form of **Open, Close, High, Low**, henceforth, nicknamed after *OCHL*. Those are defined as:\n",
    "\n",
    "![title](assets/ochl.png)\n",
    "\n",
    "\n",
    "* Among those who do trade stocks, we can find the ones so called *Scalpers* and the *Swing traders*, where, respectively, one places its buy/sell orders in the same day whereas the other waits for several days. We will be dealing with the former."
   ]
  },
  {
   "cell_type": "markdown",
   "metadata": {
    "heading_collapsed": true
   },
   "source": [
    "# II) Loading data"
   ]
  },
  {
   "cell_type": "code",
   "execution_count": 307,
   "metadata": {
    "hidden": true
   },
   "outputs": [],
   "source": [
    "import requests\n",
    "import quandl\n",
    "import os\n",
    "\n",
    "import matplotlib.pyplot as plt\n",
    "import pandas as pd\n",
    "import numpy as np"
   ]
  },
  {
   "cell_type": "code",
   "execution_count": 271,
   "metadata": {
    "hidden": true
   },
   "outputs": [],
   "source": [
    "api_key = os.environ['QUANDL_API_KEY']\n",
    "metadata_filename = 'WIKI_metadata.csv'\n",
    "dataset_filename = 'WIKI_dataset.csv'"
   ]
  },
  {
   "cell_type": "markdown",
   "metadata": {
    "heading_collapsed": true,
    "hidden": true
   },
   "source": [
    "## Downloading and extracting the dataset"
   ]
  },
  {
   "cell_type": "code",
   "execution_count": 272,
   "metadata": {
    "hidden": true
   },
   "outputs": [],
   "source": [
    "import zipfile\n",
    "def get_data(url, filename, extract=True):\n",
    "    r = requests.get(url, allow_redirects=True)\n",
    "    filename = filename + '.zip' if extract else filename\n",
    "    open(filename, 'wb').write(r.content)\n",
    "    if not extract: return\n",
    "    zipfile.ZipFile(filename, 'r').extractall('./')"
   ]
  },
  {
   "cell_type": "code",
   "execution_count": 273,
   "metadata": {
    "hidden": true
   },
   "outputs": [],
   "source": [
    "get_data('https://www.quandl.com/api/v3/databases/WIKI/metadata?api_key=%s' % api_key, \n",
    "         metadata_filename)\n",
    "\n",
    "get_data('https://www.quandl.com/api/v3/datatables/WIKI/PRICES/delta.json?api_key=%s' % api_key, \n",
    "         dataset_filename, extract=False)"
   ]
  },
  {
   "cell_type": "code",
   "execution_count": 274,
   "metadata": {
    "hidden": true
   },
   "outputs": [],
   "source": [
    "metadata_df = pd.read_csv(metadata_filename)\n",
    "dataset_df = pd.read_csv(dataset_filename)"
   ]
  },
  {
   "cell_type": "code",
   "execution_count": 275,
   "metadata": {
    "hidden": true
   },
   "outputs": [
    {
     "data": {
      "text/html": [
       "<div>\n",
       "<style scoped>\n",
       "    .dataframe tbody tr th:only-of-type {\n",
       "        vertical-align: middle;\n",
       "    }\n",
       "\n",
       "    .dataframe tbody tr th {\n",
       "        vertical-align: top;\n",
       "    }\n",
       "\n",
       "    .dataframe thead th {\n",
       "        text-align: right;\n",
       "    }\n",
       "</style>\n",
       "<table border=\"1\" class=\"dataframe\">\n",
       "  <thead>\n",
       "    <tr style=\"text-align: right;\">\n",
       "      <th></th>\n",
       "      <th>code</th>\n",
       "      <th>name</th>\n",
       "      <th>description</th>\n",
       "      <th>refreshed_at</th>\n",
       "      <th>from_date</th>\n",
       "      <th>to_date</th>\n",
       "    </tr>\n",
       "  </thead>\n",
       "  <tbody>\n",
       "    <tr>\n",
       "      <th>0</th>\n",
       "      <td>A</td>\n",
       "      <td>Agilent Technologies Inc. (A) Prices, Dividend...</td>\n",
       "      <td>End of day open, high, low, close and volume, ...</td>\n",
       "      <td>2018-03-27 21:46:10</td>\n",
       "      <td>1999-11-18</td>\n",
       "      <td>2018-03-27</td>\n",
       "    </tr>\n",
       "    <tr>\n",
       "      <th>1</th>\n",
       "      <td>AA</td>\n",
       "      <td>Alcoa Inc. (AA) Prices, Dividends, Splits and ...</td>\n",
       "      <td>End of day open, high, low, close and volume, ...</td>\n",
       "      <td>2018-03-27 21:46:10</td>\n",
       "      <td>2016-11-01</td>\n",
       "      <td>2018-03-27</td>\n",
       "    </tr>\n",
       "    <tr>\n",
       "      <th>2</th>\n",
       "      <td>AAL</td>\n",
       "      <td>American Airlines Group Inc. (AAL) Prices, Div...</td>\n",
       "      <td>&lt;p&gt;End of day open, high, low, close and volum...</td>\n",
       "      <td>2018-03-27 21:46:10</td>\n",
       "      <td>2005-09-27</td>\n",
       "      <td>2018-03-27</td>\n",
       "    </tr>\n",
       "    <tr>\n",
       "      <th>3</th>\n",
       "      <td>AAMC</td>\n",
       "      <td>Altisource Asset Management (AAMC) Prices, Div...</td>\n",
       "      <td>&lt;p&gt;End of day open, high, low, close and volum...</td>\n",
       "      <td>2018-03-27 21:46:07</td>\n",
       "      <td>2012-12-13</td>\n",
       "      <td>2018-03-27</td>\n",
       "    </tr>\n",
       "    <tr>\n",
       "      <th>4</th>\n",
       "      <td>AAN</td>\n",
       "      <td>Aaron's Inc. (AAN) Prices, Dividends, Splits a...</td>\n",
       "      <td>&lt;p&gt;End of day open, high, low, close and volum...</td>\n",
       "      <td>2018-03-27 21:45:53</td>\n",
       "      <td>1984-09-07</td>\n",
       "      <td>2018-03-27</td>\n",
       "    </tr>\n",
       "    <tr>\n",
       "      <th>5</th>\n",
       "      <td>AAOI</td>\n",
       "      <td>Applied Optoelectronics Inc (AAOI) Prices, Div...</td>\n",
       "      <td>&lt;p&gt;End of day open, high, low, close and volum...</td>\n",
       "      <td>2018-03-27 21:46:07</td>\n",
       "      <td>2013-09-26</td>\n",
       "      <td>2018-03-27</td>\n",
       "    </tr>\n",
       "    <tr>\n",
       "      <th>6</th>\n",
       "      <td>AAON</td>\n",
       "      <td>AAON Inc. (AAON) Prices, Dividends, Splits and...</td>\n",
       "      <td>&lt;p&gt;End of day open, high, low, close and volum...</td>\n",
       "      <td>2018-03-27 21:45:53</td>\n",
       "      <td>1992-12-16</td>\n",
       "      <td>2018-03-27</td>\n",
       "    </tr>\n",
       "    <tr>\n",
       "      <th>7</th>\n",
       "      <td>AAP</td>\n",
       "      <td>Advance Auto Parts Inc (AAP) Prices, Dividends...</td>\n",
       "      <td>&lt;p&gt;End of day open, high, low, close and volum...</td>\n",
       "      <td>2018-03-27 21:45:53</td>\n",
       "      <td>2001-11-29</td>\n",
       "      <td>2018-03-27</td>\n",
       "    </tr>\n",
       "    <tr>\n",
       "      <th>8</th>\n",
       "      <td>AAPL</td>\n",
       "      <td>Apple Inc (AAPL) Prices, Dividends, Splits and...</td>\n",
       "      <td>End of day open, high, low, close and volume, ...</td>\n",
       "      <td>2018-03-27 21:46:10</td>\n",
       "      <td>1980-12-12</td>\n",
       "      <td>2018-03-27</td>\n",
       "    </tr>\n",
       "    <tr>\n",
       "      <th>9</th>\n",
       "      <td>AAT</td>\n",
       "      <td>American Assets Trust Inc. (AAT) Prices, Divid...</td>\n",
       "      <td>&lt;p&gt;End of day open, high, low, close and volum...</td>\n",
       "      <td>2018-03-27 21:46:07</td>\n",
       "      <td>2011-01-13</td>\n",
       "      <td>2018-03-27</td>\n",
       "    </tr>\n",
       "    <tr>\n",
       "      <th>10</th>\n",
       "      <td>AAWW</td>\n",
       "      <td>Atlas Air Worldwide Holdings NEW (AAWW) Prices...</td>\n",
       "      <td>&lt;p&gt;End of day open, high, low, close and volum...</td>\n",
       "      <td>2018-03-27 21:45:54</td>\n",
       "      <td>2005-11-09</td>\n",
       "      <td>2018-03-27</td>\n",
       "    </tr>\n",
       "    <tr>\n",
       "      <th>11</th>\n",
       "      <td>ABAX</td>\n",
       "      <td>Abaxis Inc. (ABAX) Prices, Dividends, Splits a...</td>\n",
       "      <td>&lt;p&gt;End of day open, high, low, close and volum...</td>\n",
       "      <td>2018-03-27 21:45:53</td>\n",
       "      <td>1992-01-23</td>\n",
       "      <td>2018-03-27</td>\n",
       "    </tr>\n",
       "    <tr>\n",
       "      <th>12</th>\n",
       "      <td>ABBV</td>\n",
       "      <td>AbbVie Inc. (ABBV) Prices, Dividends, Splits a...</td>\n",
       "      <td>End of day open, high, low, close and volume, ...</td>\n",
       "      <td>2018-03-27 21:46:10</td>\n",
       "      <td>2013-01-02</td>\n",
       "      <td>2018-03-27</td>\n",
       "    </tr>\n",
       "    <tr>\n",
       "      <th>13</th>\n",
       "      <td>ABC</td>\n",
       "      <td>AmerisourceBergen Corp. (ABC) Prices, Dividend...</td>\n",
       "      <td>End of day open, high, low, close and volume, ...</td>\n",
       "      <td>2018-03-27 21:46:10</td>\n",
       "      <td>1995-04-04</td>\n",
       "      <td>2018-03-27</td>\n",
       "    </tr>\n",
       "    <tr>\n",
       "      <th>14</th>\n",
       "      <td>ABCB</td>\n",
       "      <td>Ameris Bancorp (ABCB) Prices, Dividends, Split...</td>\n",
       "      <td>&lt;p&gt;End of day open, high, low, close and volum...</td>\n",
       "      <td>2018-03-27 21:45:54</td>\n",
       "      <td>1994-05-19</td>\n",
       "      <td>2018-03-27</td>\n",
       "    </tr>\n",
       "    <tr>\n",
       "      <th>15</th>\n",
       "      <td>ABCO</td>\n",
       "      <td>Advisory Board Company (ABCO) Prices, Dividend...</td>\n",
       "      <td>&lt;p&gt;End of day open, high, low, close and volum...</td>\n",
       "      <td>2017-11-17 22:48:57</td>\n",
       "      <td>2001-11-13</td>\n",
       "      <td>2017-11-17</td>\n",
       "    </tr>\n",
       "    <tr>\n",
       "      <th>16</th>\n",
       "      <td>ABFS</td>\n",
       "      <td>Arkansas Best Corporation (ABFS) Prices, Divid...</td>\n",
       "      <td>&lt;p&gt;End of day open, high, low, close and volum...</td>\n",
       "      <td>2014-05-02 01:50:13</td>\n",
       "      <td>1992-05-13</td>\n",
       "      <td>2014-04-30</td>\n",
       "    </tr>\n",
       "    <tr>\n",
       "      <th>17</th>\n",
       "      <td>ABG</td>\n",
       "      <td>Asbury Automotive Group Inc. (ABG) Prices, Div...</td>\n",
       "      <td>&lt;p&gt;End of day open, high, low, close and volum...</td>\n",
       "      <td>2018-03-27 21:45:54</td>\n",
       "      <td>2002-03-21</td>\n",
       "      <td>2018-03-27</td>\n",
       "    </tr>\n",
       "    <tr>\n",
       "      <th>18</th>\n",
       "      <td>ABM</td>\n",
       "      <td>ABM Industries Inc. (ABM) Prices, Dividends, S...</td>\n",
       "      <td>&lt;p&gt;End of day open, high, low, close and volum...</td>\n",
       "      <td>2018-03-27 21:45:53</td>\n",
       "      <td>1984-07-19</td>\n",
       "      <td>2018-03-27</td>\n",
       "    </tr>\n",
       "    <tr>\n",
       "      <th>19</th>\n",
       "      <td>ABMD</td>\n",
       "      <td>ABIOMED Inc. (ABMD) Prices, Dividends, Splits ...</td>\n",
       "      <td>&lt;p&gt;End of day open, high, low, close and volum...</td>\n",
       "      <td>2018-03-27 21:45:53</td>\n",
       "      <td>1987-07-30</td>\n",
       "      <td>2018-03-27</td>\n",
       "    </tr>\n",
       "  </tbody>\n",
       "</table>\n",
       "</div>"
      ],
      "text/plain": [
       "    code                                               name  \\\n",
       "0      A  Agilent Technologies Inc. (A) Prices, Dividend...   \n",
       "1     AA  Alcoa Inc. (AA) Prices, Dividends, Splits and ...   \n",
       "2    AAL  American Airlines Group Inc. (AAL) Prices, Div...   \n",
       "3   AAMC  Altisource Asset Management (AAMC) Prices, Div...   \n",
       "4    AAN  Aaron's Inc. (AAN) Prices, Dividends, Splits a...   \n",
       "5   AAOI  Applied Optoelectronics Inc (AAOI) Prices, Div...   \n",
       "6   AAON  AAON Inc. (AAON) Prices, Dividends, Splits and...   \n",
       "7    AAP  Advance Auto Parts Inc (AAP) Prices, Dividends...   \n",
       "8   AAPL  Apple Inc (AAPL) Prices, Dividends, Splits and...   \n",
       "9    AAT  American Assets Trust Inc. (AAT) Prices, Divid...   \n",
       "10  AAWW  Atlas Air Worldwide Holdings NEW (AAWW) Prices...   \n",
       "11  ABAX  Abaxis Inc. (ABAX) Prices, Dividends, Splits a...   \n",
       "12  ABBV  AbbVie Inc. (ABBV) Prices, Dividends, Splits a...   \n",
       "13   ABC  AmerisourceBergen Corp. (ABC) Prices, Dividend...   \n",
       "14  ABCB  Ameris Bancorp (ABCB) Prices, Dividends, Split...   \n",
       "15  ABCO  Advisory Board Company (ABCO) Prices, Dividend...   \n",
       "16  ABFS  Arkansas Best Corporation (ABFS) Prices, Divid...   \n",
       "17   ABG  Asbury Automotive Group Inc. (ABG) Prices, Div...   \n",
       "18   ABM  ABM Industries Inc. (ABM) Prices, Dividends, S...   \n",
       "19  ABMD  ABIOMED Inc. (ABMD) Prices, Dividends, Splits ...   \n",
       "\n",
       "                                          description         refreshed_at  \\\n",
       "0   End of day open, high, low, close and volume, ...  2018-03-27 21:46:10   \n",
       "1   End of day open, high, low, close and volume, ...  2018-03-27 21:46:10   \n",
       "2   <p>End of day open, high, low, close and volum...  2018-03-27 21:46:10   \n",
       "3   <p>End of day open, high, low, close and volum...  2018-03-27 21:46:07   \n",
       "4   <p>End of day open, high, low, close and volum...  2018-03-27 21:45:53   \n",
       "5   <p>End of day open, high, low, close and volum...  2018-03-27 21:46:07   \n",
       "6   <p>End of day open, high, low, close and volum...  2018-03-27 21:45:53   \n",
       "7   <p>End of day open, high, low, close and volum...  2018-03-27 21:45:53   \n",
       "8   End of day open, high, low, close and volume, ...  2018-03-27 21:46:10   \n",
       "9   <p>End of day open, high, low, close and volum...  2018-03-27 21:46:07   \n",
       "10  <p>End of day open, high, low, close and volum...  2018-03-27 21:45:54   \n",
       "11  <p>End of day open, high, low, close and volum...  2018-03-27 21:45:53   \n",
       "12  End of day open, high, low, close and volume, ...  2018-03-27 21:46:10   \n",
       "13  End of day open, high, low, close and volume, ...  2018-03-27 21:46:10   \n",
       "14  <p>End of day open, high, low, close and volum...  2018-03-27 21:45:54   \n",
       "15  <p>End of day open, high, low, close and volum...  2017-11-17 22:48:57   \n",
       "16  <p>End of day open, high, low, close and volum...  2014-05-02 01:50:13   \n",
       "17  <p>End of day open, high, low, close and volum...  2018-03-27 21:45:54   \n",
       "18  <p>End of day open, high, low, close and volum...  2018-03-27 21:45:53   \n",
       "19  <p>End of day open, high, low, close and volum...  2018-03-27 21:45:53   \n",
       "\n",
       "     from_date     to_date  \n",
       "0   1999-11-18  2018-03-27  \n",
       "1   2016-11-01  2018-03-27  \n",
       "2   2005-09-27  2018-03-27  \n",
       "3   2012-12-13  2018-03-27  \n",
       "4   1984-09-07  2018-03-27  \n",
       "5   2013-09-26  2018-03-27  \n",
       "6   1992-12-16  2018-03-27  \n",
       "7   2001-11-29  2018-03-27  \n",
       "8   1980-12-12  2018-03-27  \n",
       "9   2011-01-13  2018-03-27  \n",
       "10  2005-11-09  2018-03-27  \n",
       "11  1992-01-23  2018-03-27  \n",
       "12  2013-01-02  2018-03-27  \n",
       "13  1995-04-04  2018-03-27  \n",
       "14  1994-05-19  2018-03-27  \n",
       "15  2001-11-13  2017-11-17  \n",
       "16  1992-05-13  2014-04-30  \n",
       "17  2002-03-21  2018-03-27  \n",
       "18  1984-07-19  2018-03-27  \n",
       "19  1987-07-30  2018-03-27  "
      ]
     },
     "execution_count": 275,
     "metadata": {},
     "output_type": "execute_result"
    }
   ],
   "source": [
    "metadata_df.head(20)"
   ]
  },
  {
   "cell_type": "code",
   "execution_count": 276,
   "metadata": {
    "hidden": true
   },
   "outputs": [
    {
     "data": {
      "text/html": [
       "<div>\n",
       "<style scoped>\n",
       "    .dataframe tbody tr th:only-of-type {\n",
       "        vertical-align: middle;\n",
       "    }\n",
       "\n",
       "    .dataframe tbody tr th {\n",
       "        vertical-align: top;\n",
       "    }\n",
       "\n",
       "    .dataframe thead th {\n",
       "        text-align: right;\n",
       "    }\n",
       "</style>\n",
       "<table border=\"1\" class=\"dataframe\">\n",
       "  <thead>\n",
       "    <tr style=\"text-align: right;\">\n",
       "      <th></th>\n",
       "      <th>{\"data\":{\"files\":[]</th>\n",
       "      <th>latest_full_data:null}}</th>\n",
       "    </tr>\n",
       "  </thead>\n",
       "  <tbody>\n",
       "  </tbody>\n",
       "</table>\n",
       "</div>"
      ],
      "text/plain": [
       "Empty DataFrame\n",
       "Columns: [{\"data\":{\"files\":[], latest_full_data:null}}]\n",
       "Index: []"
      ]
     },
     "execution_count": 276,
     "metadata": {},
     "output_type": "execute_result"
    }
   ],
   "source": [
    "dataset_df"
   ]
  },
  {
   "cell_type": "markdown",
   "metadata": {
    "hidden": true
   },
   "source": [
    "* Since the api for `get`'ing seems to be not working, we can use the **quandl** module to download the dataset.\n",
    "\n",
    "\n",
    "\n",
    "* The WIKI dataset has a huge variety of bonds, stocks and assets, at first, we'll be dealing with just **two**. The *Apple*(AAPL) and the *Tesla* (TSLA)\n",
    "\n",
    "\n",
    "\n",
    "* Also, for the sake of implementation, only two years of data will be downloaded and loaded into memory. Later we can experiment with multiple timeframes for cross validation of models."
   ]
  },
  {
   "cell_type": "code",
   "execution_count": 323,
   "metadata": {
    "hidden": true,
    "scrolled": true
   },
   "outputs": [
    {
     "data": {
      "text/html": [
       "<div>\n",
       "<style scoped>\n",
       "    .dataframe tbody tr th:only-of-type {\n",
       "        vertical-align: middle;\n",
       "    }\n",
       "\n",
       "    .dataframe tbody tr th {\n",
       "        vertical-align: top;\n",
       "    }\n",
       "\n",
       "    .dataframe thead th {\n",
       "        text-align: right;\n",
       "    }\n",
       "</style>\n",
       "<table border=\"1\" class=\"dataframe\">\n",
       "  <thead>\n",
       "    <tr style=\"text-align: right;\">\n",
       "      <th></th>\n",
       "      <th>ticker</th>\n",
       "      <th>date</th>\n",
       "      <th>open</th>\n",
       "      <th>high</th>\n",
       "      <th>low</th>\n",
       "      <th>close</th>\n",
       "      <th>volume</th>\n",
       "      <th>ex-dividend</th>\n",
       "      <th>split_ratio</th>\n",
       "      <th>adj_open</th>\n",
       "      <th>adj_high</th>\n",
       "      <th>adj_low</th>\n",
       "      <th>adj_close</th>\n",
       "      <th>adj_volume</th>\n",
       "    </tr>\n",
       "    <tr>\n",
       "      <th>None</th>\n",
       "      <th></th>\n",
       "      <th></th>\n",
       "      <th></th>\n",
       "      <th></th>\n",
       "      <th></th>\n",
       "      <th></th>\n",
       "      <th></th>\n",
       "      <th></th>\n",
       "      <th></th>\n",
       "      <th></th>\n",
       "      <th></th>\n",
       "      <th></th>\n",
       "      <th></th>\n",
       "      <th></th>\n",
       "    </tr>\n",
       "  </thead>\n",
       "  <tbody>\n",
       "    <tr>\n",
       "      <th>0</th>\n",
       "      <td>TSLA</td>\n",
       "      <td>2017-12-29</td>\n",
       "      <td>316.18</td>\n",
       "      <td>316.4100</td>\n",
       "      <td>310.00</td>\n",
       "      <td>311.35</td>\n",
       "      <td>3727621.0</td>\n",
       "      <td>0.0</td>\n",
       "      <td>1.0</td>\n",
       "      <td>316.18</td>\n",
       "      <td>316.4100</td>\n",
       "      <td>310.00</td>\n",
       "      <td>311.35</td>\n",
       "      <td>3727621.0</td>\n",
       "    </tr>\n",
       "    <tr>\n",
       "      <th>1</th>\n",
       "      <td>TSLA</td>\n",
       "      <td>2017-12-28</td>\n",
       "      <td>311.75</td>\n",
       "      <td>315.8200</td>\n",
       "      <td>309.54</td>\n",
       "      <td>315.36</td>\n",
       "      <td>4294689.0</td>\n",
       "      <td>0.0</td>\n",
       "      <td>1.0</td>\n",
       "      <td>311.75</td>\n",
       "      <td>315.8200</td>\n",
       "      <td>309.54</td>\n",
       "      <td>315.36</td>\n",
       "      <td>4294689.0</td>\n",
       "    </tr>\n",
       "    <tr>\n",
       "      <th>2</th>\n",
       "      <td>TSLA</td>\n",
       "      <td>2017-12-27</td>\n",
       "      <td>316.00</td>\n",
       "      <td>317.6800</td>\n",
       "      <td>310.75</td>\n",
       "      <td>311.64</td>\n",
       "      <td>4645441.0</td>\n",
       "      <td>0.0</td>\n",
       "      <td>1.0</td>\n",
       "      <td>316.00</td>\n",
       "      <td>317.6800</td>\n",
       "      <td>310.75</td>\n",
       "      <td>311.64</td>\n",
       "      <td>4645441.0</td>\n",
       "    </tr>\n",
       "    <tr>\n",
       "      <th>3</th>\n",
       "      <td>TSLA</td>\n",
       "      <td>2017-12-26</td>\n",
       "      <td>323.83</td>\n",
       "      <td>323.9400</td>\n",
       "      <td>316.58</td>\n",
       "      <td>317.29</td>\n",
       "      <td>4321909.0</td>\n",
       "      <td>0.0</td>\n",
       "      <td>1.0</td>\n",
       "      <td>323.83</td>\n",
       "      <td>323.9400</td>\n",
       "      <td>316.58</td>\n",
       "      <td>317.29</td>\n",
       "      <td>4321909.0</td>\n",
       "    </tr>\n",
       "    <tr>\n",
       "      <th>4</th>\n",
       "      <td>TSLA</td>\n",
       "      <td>2017-12-22</td>\n",
       "      <td>329.51</td>\n",
       "      <td>330.9214</td>\n",
       "      <td>324.82</td>\n",
       "      <td>325.20</td>\n",
       "      <td>4186131.0</td>\n",
       "      <td>0.0</td>\n",
       "      <td>1.0</td>\n",
       "      <td>329.51</td>\n",
       "      <td>330.9214</td>\n",
       "      <td>324.82</td>\n",
       "      <td>325.20</td>\n",
       "      <td>4186131.0</td>\n",
       "    </tr>\n",
       "  </tbody>\n",
       "</table>\n",
       "</div>"
      ],
      "text/plain": [
       "     ticker       date    open      high     low   close     volume  \\\n",
       "None                                                                  \n",
       "0      TSLA 2017-12-29  316.18  316.4100  310.00  311.35  3727621.0   \n",
       "1      TSLA 2017-12-28  311.75  315.8200  309.54  315.36  4294689.0   \n",
       "2      TSLA 2017-12-27  316.00  317.6800  310.75  311.64  4645441.0   \n",
       "3      TSLA 2017-12-26  323.83  323.9400  316.58  317.29  4321909.0   \n",
       "4      TSLA 2017-12-22  329.51  330.9214  324.82  325.20  4186131.0   \n",
       "\n",
       "      ex-dividend  split_ratio  adj_open  adj_high  adj_low  adj_close  \\\n",
       "None                                                                     \n",
       "0             0.0          1.0    316.18  316.4100   310.00     311.35   \n",
       "1             0.0          1.0    311.75  315.8200   309.54     315.36   \n",
       "2             0.0          1.0    316.00  317.6800   310.75     311.64   \n",
       "3             0.0          1.0    323.83  323.9400   316.58     317.29   \n",
       "4             0.0          1.0    329.51  330.9214   324.82     325.20   \n",
       "\n",
       "      adj_volume  \n",
       "None              \n",
       "0      3727621.0  \n",
       "1      4294689.0  \n",
       "2      4645441.0  \n",
       "3      4321909.0  \n",
       "4      4186131.0  "
      ]
     },
     "execution_count": 323,
     "metadata": {},
     "output_type": "execute_result"
    }
   ],
   "source": [
    "quandl.ApiConfig.api_key = api_key\n",
    "\n",
    "dataset_df = quandl.get_table('WIKI/PRICES', ticker = ['AAPL', 'TSLA'], \n",
    "                        date = {'gte': '2015-12-31', 'lte': '2017-12-31'}, \n",
    "                        paginate=True)\n",
    "dataset_df.head()"
   ]
  },
  {
   "cell_type": "markdown",
   "metadata": {
    "heading_collapsed": true
   },
   "source": [
    "# III) Feature engineering"
   ]
  },
  {
   "cell_type": "markdown",
   "metadata": {
    "hidden": true
   },
   "source": [
    "* As discussed in the first section, it is useful to transform the OCHL features to something manageable mathematically, such as, a (locally) stationary time series.\n",
    "\n",
    "\n",
    "* All the features will be normalized to 1 standard deviation inside a window, so they have the same *a-priori* importance, since their power will always be 1"
   ]
  },
  {
   "cell_type": "code",
   "execution_count": 338,
   "metadata": {
    "hidden": true
   },
   "outputs": [],
   "source": [
    "features_df = dataset_df[['open', 'high', 'low', 'close', 'volume', 'date', 'ticker']].copy()"
   ]
  },
  {
   "cell_type": "markdown",
   "metadata": {
    "heading_collapsed": true,
    "hidden": true
   },
   "source": [
    "## Analytical features"
   ]
  },
  {
   "cell_type": "markdown",
   "metadata": {
    "hidden": true
   },
   "source": [
    "### Daily returns."
   ]
  },
  {
   "cell_type": "markdown",
   "metadata": {
    "hidden": true
   },
   "source": [
    "* One can use the relative returns of one single day as feature, since it is a first order derivative, thus, conveying stationarity to out time series.\n",
    "\n",
    "$$\\frac{X(t_{close})}{X(t_{open})} - 1$$"
   ]
  },
  {
   "cell_type": "code",
   "execution_count": 339,
   "metadata": {
    "hidden": true
   },
   "outputs": [],
   "source": [
    "features_df['daily_returns'] = (features_df.close / features_df.open) - 1"
   ]
  },
  {
   "cell_type": "code",
   "execution_count": 358,
   "metadata": {
    "hidden": true
   },
   "outputs": [
    {
     "data": {
      "image/png": "[encoded data removed]",
      "text/plain": [
       "<Figure size 432x288 with 1 Axes>"
      ]
     },
     "metadata": {
      "needs_background": "light"
     },
     "output_type": "display_data"
    }
   ],
   "source": [
    "plt.plot(features_df[features_df.ticker == 'TSLA']['daily_returns'])\n",
    "\n",
    "plt.grid()\n",
    "plt.show()"
   ]
  },
  {
   "cell_type": "markdown",
   "metadata": {
    "hidden": true
   },
   "source": [
    "### Log returns.\n",
    "\n",
    "* Among the advantages explored in the **section I)** of using returns instead of the raw data, we can further improve the feature of time series so it displays desirable statistical properties. One usual transform is known as **Log-returns**, defined as follows:\n",
    "\n",
    "\n",
    "$$log(\\frac{X(t)}{X(t-1)})$$\n",
    "\n",
    "\n",
    "* The desirable properties of using log-returns can be summed in as being prone to follow a normal distribution and being able to \"accumulate\" returns over time with simple additions instead of multiplications)"
   ]
  },
  {
   "cell_type": "code",
   "execution_count": 340,
   "metadata": {
    "hidden": true
   },
   "outputs": [],
   "source": [
    "def log_returns(dataframe):\n",
    "    sorted_dataframe = dataframe.sort_values(by='date')\n",
    "    sorted_dataframe['log_returns'] = np.log(sorted_dataframe.close / sorted_dataframe.close.shift(1))\n",
    "    return sorted_dataframe\n",
    "    \n",
    "features_df = features_df.groupby('ticker')\\\n",
    "    .apply(log_returns).droplevel(0).reset_index(drop=True)"
   ]
  },
  {
   "cell_type": "markdown",
   "metadata": {
    "heading_collapsed": true,
    "hidden": true
   },
   "source": [
    "## Market Features (Techinical indicators)"
   ]
  },
  {
   "cell_type": "markdown",
   "metadata": {
    "hidden": true
   },
   "source": [
    "* For traders who are used to manually trade, It's often used a common analysis called **Technical Analysis**, in which allegedly, it is possible to infer market movements such as *momentum*, *overbought*, *oversold*, *breakout break* and *support breakout* through **technical indicators** such as (*e.g.* MACD, RSI, EMA, Bollinger Bands, Stochastic oscillators).\n",
    "\n",
    "\n",
    "\n",
    "* There are **NO**$^{I}$ proves so far that technical indicators have any real predictive power over the market besides the mere fact that human traders, hedge funds and firms tend to use them, so, by the efficient market hypothesis, the market will react in accordance with those buyers and sellers.\n",
    "\n",
    "\n",
    "* Thus, we are going to use one of those indicators because it can at least predict if traders are using it too much or otherwise.\n",
    "\n",
    "\n",
    "\n",
    "\n",
    "<sup>$^{I}$: *Burton G. Malkiel*, A randon walk down wall street.<sup>"
   ]
  },
  {
   "cell_type": "markdown",
   "metadata": {
    "hidden": true
   },
   "source": [
    "### Price-Volume Trend"
   ]
  },
  {
   "cell_type": "markdown",
   "metadata": {
    "hidden": true
   },
   "source": [
    "* Sharp changes in the price that follows a sharp change in volume usually represents a **resistance** or **support**, meaning that traders will consider the market overbought (or oversold) and start to sell (or buy).\n",
    "\n",
    "\n",
    "* On Balance Volume (OBV) Is an indicator that simply adds or subtracts the volume from a accumulator depending on the return of the current day."
   ]
  },
  {
   "cell_type": "code",
   "execution_count": 357,
   "metadata": {
    "hidden": true,
    "scrolled": true
   },
   "outputs": [],
   "source": [
    "def on_balance_volume(dataframe):\n",
    "    sorted_dataframe = dataframe.sort_values(by='date')\n",
    "    previous_row = None\n",
    "    def _compute_obv_for_row(row):\n",
    "        nonlocal previous_row\n",
    "        if previous_row is not None:\n",
    "            row['obv'] = previous_row['obv'] + row['volume'] if row['close'] > previous_row['close'] else\\\n",
    "                         previous_row['obv'] - row['volume'] if row['close'] < previous_row['close'] else\\\n",
    "                         previous_row['obv']\n",
    "        else:\n",
    "            row['obv'] = np.nan\n",
    "            previous_row = row.copy()\n",
    "            previous_row['obv'] = .0\n",
    "        return row\n",
    "\n",
    "    return sorted_dataframe.apply(_compute_obv_for_row, axis=1)\n",
    "\n",
    "features_df = features_df.groupby('ticker')\\\n",
    "    .apply(on_balance_volume).reset_index(drop=True)"
   ]
  },
  {
   "cell_type": "code",
   "execution_count": null,
   "metadata": {
    "hidden": true
   },
   "outputs": [],
   "source": []
  }
 ],
 "metadata": {
  "kernelspec": {
   "display_name": "Python 3",
   "language": "python",
   "name": "python3"
  },
  "language_info": {
   "codemirror_mode": {
    "name": "ipython",
    "version": 3
   },
   "file_extension": ".py",
   "mimetype": "text/x-python",
   "name": "python",
   "nbconvert_exporter": "python",
   "pygments_lexer": "ipython3",
   "version": "3.6.8"
  }
 },
 "nbformat": 4,
 "nbformat_minor": 2
}
